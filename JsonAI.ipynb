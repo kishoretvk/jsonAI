{
  "nbformat": 4,
  "nbformat_minor": 0,
  "metadata": {
    "colab": {
      "provenance": [],
      "machine_shape": "hm",
      "gpuType": "T4",
      "authorship_tag": "ABX9TyMrILxdc46iijiXKTbNE4UP",
      "include_colab_link": true
    },
    "kernelspec": {
      "name": "python3",
      "display_name": "Python 3"
    },
    "language_info": {
      "name": "python"
    },
    "accelerator": "GPU",
    "widgets": {
      "application/vnd.jupyter.widget-state+json": {
        "03bbb8b566df4969984a69c084dd5022": {
          "model_module": "@jupyter-widgets/controls",
          "model_name": "HBoxModel",
          "model_module_version": "1.5.0",
          "state": {
            "_dom_classes": [],
            "_model_module": "@jupyter-widgets/controls",
            "_model_module_version": "1.5.0",
            "_model_name": "HBoxModel",
            "_view_count": null,
            "_view_module": "@jupyter-widgets/controls",
            "_view_module_version": "1.5.0",
            "_view_name": "HBoxView",
            "box_style": "",
            "children": [
              "IPY_MODEL_fbaf2c7d8834454fb7cd55427c8ebda1",
              "IPY_MODEL_ecf7b510247d426fbf2d7ef5225c3059",
              "IPY_MODEL_f3df7e7e383147b795a138e525e061da"
            ],
            "layout": "IPY_MODEL_19aceddb6534411db6464d01d1501091"
          }
        },
        "fbaf2c7d8834454fb7cd55427c8ebda1": {
          "model_module": "@jupyter-widgets/controls",
          "model_name": "HTMLModel",
          "model_module_version": "1.5.0",
          "state": {
            "_dom_classes": [],
            "_model_module": "@jupyter-widgets/controls",
            "_model_module_version": "1.5.0",
            "_model_name": "HTMLModel",
            "_view_count": null,
            "_view_module": "@jupyter-widgets/controls",
            "_view_module_version": "1.5.0",
            "_view_name": "HTMLView",
            "description": "",
            "description_tooltip": null,
            "layout": "IPY_MODEL_3deabdc3e678436ebda964629eb27d0a",
            "placeholder": "​",
            "style": "IPY_MODEL_4c94a07c45ca4600b9c53e8b47208715",
            "value": "config.json: 100%"
          }
        },
        "ecf7b510247d426fbf2d7ef5225c3059": {
          "model_module": "@jupyter-widgets/controls",
          "model_name": "FloatProgressModel",
          "model_module_version": "1.5.0",
          "state": {
            "_dom_classes": [],
            "_model_module": "@jupyter-widgets/controls",
            "_model_module_version": "1.5.0",
            "_model_name": "FloatProgressModel",
            "_view_count": null,
            "_view_module": "@jupyter-widgets/controls",
            "_view_module_version": "1.5.0",
            "_view_name": "ProgressView",
            "bar_style": "success",
            "description": "",
            "description_tooltip": null,
            "layout": "IPY_MODEL_9a0831f2fa3a4b2db970cb7e1c23c75e",
            "max": 819,
            "min": 0,
            "orientation": "horizontal",
            "style": "IPY_MODEL_e354959a85f847878148a80220f85342",
            "value": 819
          }
        },
        "f3df7e7e383147b795a138e525e061da": {
          "model_module": "@jupyter-widgets/controls",
          "model_name": "HTMLModel",
          "model_module_version": "1.5.0",
          "state": {
            "_dom_classes": [],
            "_model_module": "@jupyter-widgets/controls",
            "_model_module_version": "1.5.0",
            "_model_name": "HTMLModel",
            "_view_count": null,
            "_view_module": "@jupyter-widgets/controls",
            "_view_module_version": "1.5.0",
            "_view_name": "HTMLView",
            "description": "",
            "description_tooltip": null,
            "layout": "IPY_MODEL_7bc4a38a749743558b0e4c3430cad13a",
            "placeholder": "​",
            "style": "IPY_MODEL_eeba2e16aa9a4b4ab5a93f076e11c43d",
            "value": " 819/819 [00:00&lt;00:00, 48.6kB/s]"
          }
        },
        "19aceddb6534411db6464d01d1501091": {
          "model_module": "@jupyter-widgets/base",
          "model_name": "LayoutModel",
          "model_module_version": "1.2.0",
          "state": {
            "_model_module": "@jupyter-widgets/base",
            "_model_module_version": "1.2.0",
            "_model_name": "LayoutModel",
            "_view_count": null,
            "_view_module": "@jupyter-widgets/base",
            "_view_module_version": "1.2.0",
            "_view_name": "LayoutView",
            "align_content": null,
            "align_items": null,
            "align_self": null,
            "border": null,
            "bottom": null,
            "display": null,
            "flex": null,
            "flex_flow": null,
            "grid_area": null,
            "grid_auto_columns": null,
            "grid_auto_flow": null,
            "grid_auto_rows": null,
            "grid_column": null,
            "grid_gap": null,
            "grid_row": null,
            "grid_template_areas": null,
            "grid_template_columns": null,
            "grid_template_rows": null,
            "height": null,
            "justify_content": null,
            "justify_items": null,
            "left": null,
            "margin": null,
            "max_height": null,
            "max_width": null,
            "min_height": null,
            "min_width": null,
            "object_fit": null,
            "object_position": null,
            "order": null,
            "overflow": null,
            "overflow_x": null,
            "overflow_y": null,
            "padding": null,
            "right": null,
            "top": null,
            "visibility": null,
            "width": null
          }
        },
        "3deabdc3e678436ebda964629eb27d0a": {
          "model_module": "@jupyter-widgets/base",
          "model_name": "LayoutModel",
          "model_module_version": "1.2.0",
          "state": {
            "_model_module": "@jupyter-widgets/base",
            "_model_module_version": "1.2.0",
            "_model_name": "LayoutModel",
            "_view_count": null,
            "_view_module": "@jupyter-widgets/base",
            "_view_module_version": "1.2.0",
            "_view_name": "LayoutView",
            "align_content": null,
            "align_items": null,
            "align_self": null,
            "border": null,
            "bottom": null,
            "display": null,
            "flex": null,
            "flex_flow": null,
            "grid_area": null,
            "grid_auto_columns": null,
            "grid_auto_flow": null,
            "grid_auto_rows": null,
            "grid_column": null,
            "grid_gap": null,
            "grid_row": null,
            "grid_template_areas": null,
            "grid_template_columns": null,
            "grid_template_rows": null,
            "height": null,
            "justify_content": null,
            "justify_items": null,
            "left": null,
            "margin": null,
            "max_height": null,
            "max_width": null,
            "min_height": null,
            "min_width": null,
            "object_fit": null,
            "object_position": null,
            "order": null,
            "overflow": null,
            "overflow_x": null,
            "overflow_y": null,
            "padding": null,
            "right": null,
            "top": null,
            "visibility": null,
            "width": null
          }
        },
        "4c94a07c45ca4600b9c53e8b47208715": {
          "model_module": "@jupyter-widgets/controls",
          "model_name": "DescriptionStyleModel",
          "model_module_version": "1.5.0",
          "state": {
            "_model_module": "@jupyter-widgets/controls",
            "_model_module_version": "1.5.0",
            "_model_name": "DescriptionStyleModel",
            "_view_count": null,
            "_view_module": "@jupyter-widgets/base",
            "_view_module_version": "1.2.0",
            "_view_name": "StyleView",
            "description_width": ""
          }
        },
        "9a0831f2fa3a4b2db970cb7e1c23c75e": {
          "model_module": "@jupyter-widgets/base",
          "model_name": "LayoutModel",
          "model_module_version": "1.2.0",
          "state": {
            "_model_module": "@jupyter-widgets/base",
            "_model_module_version": "1.2.0",
            "_model_name": "LayoutModel",
            "_view_count": null,
            "_view_module": "@jupyter-widgets/base",
            "_view_module_version": "1.2.0",
            "_view_name": "LayoutView",
            "align_content": null,
            "align_items": null,
            "align_self": null,
            "border": null,
            "bottom": null,
            "display": null,
            "flex": null,
            "flex_flow": null,
            "grid_area": null,
            "grid_auto_columns": null,
            "grid_auto_flow": null,
            "grid_auto_rows": null,
            "grid_column": null,
            "grid_gap": null,
            "grid_row": null,
            "grid_template_areas": null,
            "grid_template_columns": null,
            "grid_template_rows": null,
            "height": null,
            "justify_content": null,
            "justify_items": null,
            "left": null,
            "margin": null,
            "max_height": null,
            "max_width": null,
            "min_height": null,
            "min_width": null,
            "object_fit": null,
            "object_position": null,
            "order": null,
            "overflow": null,
            "overflow_x": null,
            "overflow_y": null,
            "padding": null,
            "right": null,
            "top": null,
            "visibility": null,
            "width": null
          }
        },
        "e354959a85f847878148a80220f85342": {
          "model_module": "@jupyter-widgets/controls",
          "model_name": "ProgressStyleModel",
          "model_module_version": "1.5.0",
          "state": {
            "_model_module": "@jupyter-widgets/controls",
            "_model_module_version": "1.5.0",
            "_model_name": "ProgressStyleModel",
            "_view_count": null,
            "_view_module": "@jupyter-widgets/base",
            "_view_module_version": "1.2.0",
            "_view_name": "StyleView",
            "bar_color": null,
            "description_width": ""
          }
        },
        "7bc4a38a749743558b0e4c3430cad13a": {
          "model_module": "@jupyter-widgets/base",
          "model_name": "LayoutModel",
          "model_module_version": "1.2.0",
          "state": {
            "_model_module": "@jupyter-widgets/base",
            "_model_module_version": "1.2.0",
            "_model_name": "LayoutModel",
            "_view_count": null,
            "_view_module": "@jupyter-widgets/base",
            "_view_module_version": "1.2.0",
            "_view_name": "LayoutView",
            "align_content": null,
            "align_items": null,
            "align_self": null,
            "border": null,
            "bottom": null,
            "display": null,
            "flex": null,
            "flex_flow": null,
            "grid_area": null,
            "grid_auto_columns": null,
            "grid_auto_flow": null,
            "grid_auto_rows": null,
            "grid_column": null,
            "grid_gap": null,
            "grid_row": null,
            "grid_template_areas": null,
            "grid_template_columns": null,
            "grid_template_rows": null,
            "height": null,
            "justify_content": null,
            "justify_items": null,
            "left": null,
            "margin": null,
            "max_height": null,
            "max_width": null,
            "min_height": null,
            "min_width": null,
            "object_fit": null,
            "object_position": null,
            "order": null,
            "overflow": null,
            "overflow_x": null,
            "overflow_y": null,
            "padding": null,
            "right": null,
            "top": null,
            "visibility": null,
            "width": null
          }
        },
        "eeba2e16aa9a4b4ab5a93f076e11c43d": {
          "model_module": "@jupyter-widgets/controls",
          "model_name": "DescriptionStyleModel",
          "model_module_version": "1.5.0",
          "state": {
            "_model_module": "@jupyter-widgets/controls",
            "_model_module_version": "1.5.0",
            "_model_name": "DescriptionStyleModel",
            "_view_count": null,
            "_view_module": "@jupyter-widgets/base",
            "_view_module_version": "1.2.0",
            "_view_name": "StyleView",
            "description_width": ""
          }
        },
        "f92523a4974b47bca0f4954582c32d09": {
          "model_module": "@jupyter-widgets/controls",
          "model_name": "HBoxModel",
          "model_module_version": "1.5.0",
          "state": {
            "_dom_classes": [],
            "_model_module": "@jupyter-widgets/controls",
            "_model_module_version": "1.5.0",
            "_model_name": "HBoxModel",
            "_view_count": null,
            "_view_module": "@jupyter-widgets/controls",
            "_view_module_version": "1.5.0",
            "_view_name": "HBoxView",
            "box_style": "",
            "children": [
              "IPY_MODEL_b13cc2ad731147ce841a0d706dd463b8",
              "IPY_MODEL_5de5cd33f2a3459b9a6417e6b86bbffc",
              "IPY_MODEL_c3fb99e7f3a7421abfc55f2c04f8750e"
            ],
            "layout": "IPY_MODEL_6f0c3f96948e43c48f0be66ef863b651"
          }
        },
        "b13cc2ad731147ce841a0d706dd463b8": {
          "model_module": "@jupyter-widgets/controls",
          "model_name": "HTMLModel",
          "model_module_version": "1.5.0",
          "state": {
            "_dom_classes": [],
            "_model_module": "@jupyter-widgets/controls",
            "_model_module_version": "1.5.0",
            "_model_name": "HTMLModel",
            "_view_count": null,
            "_view_module": "@jupyter-widgets/controls",
            "_view_module_version": "1.5.0",
            "_view_name": "HTMLView",
            "description": "",
            "description_tooltip": null,
            "layout": "IPY_MODEL_8cd290d998c14f49a63dd62a4f547ffb",
            "placeholder": "​",
            "style": "IPY_MODEL_c9dcca21ac5a4d7089c7616c4a6cdfc6",
            "value": "pytorch_model.bin: 100%"
          }
        },
        "5de5cd33f2a3459b9a6417e6b86bbffc": {
          "model_module": "@jupyter-widgets/controls",
          "model_name": "FloatProgressModel",
          "model_module_version": "1.5.0",
          "state": {
            "_dom_classes": [],
            "_model_module": "@jupyter-widgets/controls",
            "_model_module_version": "1.5.0",
            "_model_name": "FloatProgressModel",
            "_view_count": null,
            "_view_module": "@jupyter-widgets/controls",
            "_view_module_version": "1.5.0",
            "_view_name": "ProgressView",
            "bar_style": "success",
            "description": "",
            "description_tooltip": null,
            "layout": "IPY_MODEL_fa136381fb53451faa41f7bad796f7a8",
            "max": 5684548185,
            "min": 0,
            "orientation": "horizontal",
            "style": "IPY_MODEL_60c5932245d74acd8ad5c54398dfc7ea",
            "value": 5684548185
          }
        },
        "c3fb99e7f3a7421abfc55f2c04f8750e": {
          "model_module": "@jupyter-widgets/controls",
          "model_name": "HTMLModel",
          "model_module_version": "1.5.0",
          "state": {
            "_dom_classes": [],
            "_model_module": "@jupyter-widgets/controls",
            "_model_module_version": "1.5.0",
            "_model_name": "HTMLModel",
            "_view_count": null,
            "_view_module": "@jupyter-widgets/controls",
            "_view_module_version": "1.5.0",
            "_view_name": "HTMLView",
            "description": "",
            "description_tooltip": null,
            "layout": "IPY_MODEL_c279899963d04dbcacfd3413c6ebe407",
            "placeholder": "​",
            "style": "IPY_MODEL_63a5a859941c4cbc8381099cb137075e",
            "value": " 5.68G/5.68G [00:14&lt;00:00, 413MB/s]"
          }
        },
        "6f0c3f96948e43c48f0be66ef863b651": {
          "model_module": "@jupyter-widgets/base",
          "model_name": "LayoutModel",
          "model_module_version": "1.2.0",
          "state": {
            "_model_module": "@jupyter-widgets/base",
            "_model_module_version": "1.2.0",
            "_model_name": "LayoutModel",
            "_view_count": null,
            "_view_module": "@jupyter-widgets/base",
            "_view_module_version": "1.2.0",
            "_view_name": "LayoutView",
            "align_content": null,
            "align_items": null,
            "align_self": null,
            "border": null,
            "bottom": null,
            "display": null,
            "flex": null,
            "flex_flow": null,
            "grid_area": null,
            "grid_auto_columns": null,
            "grid_auto_flow": null,
            "grid_auto_rows": null,
            "grid_column": null,
            "grid_gap": null,
            "grid_row": null,
            "grid_template_areas": null,
            "grid_template_columns": null,
            "grid_template_rows": null,
            "height": null,
            "justify_content": null,
            "justify_items": null,
            "left": null,
            "margin": null,
            "max_height": null,
            "max_width": null,
            "min_height": null,
            "min_width": null,
            "object_fit": null,
            "object_position": null,
            "order": null,
            "overflow": null,
            "overflow_x": null,
            "overflow_y": null,
            "padding": null,
            "right": null,
            "top": null,
            "visibility": null,
            "width": null
          }
        },
        "8cd290d998c14f49a63dd62a4f547ffb": {
          "model_module": "@jupyter-widgets/base",
          "model_name": "LayoutModel",
          "model_module_version": "1.2.0",
          "state": {
            "_model_module": "@jupyter-widgets/base",
            "_model_module_version": "1.2.0",
            "_model_name": "LayoutModel",
            "_view_count": null,
            "_view_module": "@jupyter-widgets/base",
            "_view_module_version": "1.2.0",
            "_view_name": "LayoutView",
            "align_content": null,
            "align_items": null,
            "align_self": null,
            "border": null,
            "bottom": null,
            "display": null,
            "flex": null,
            "flex_flow": null,
            "grid_area": null,
            "grid_auto_columns": null,
            "grid_auto_flow": null,
            "grid_auto_rows": null,
            "grid_column": null,
            "grid_gap": null,
            "grid_row": null,
            "grid_template_areas": null,
            "grid_template_columns": null,
            "grid_template_rows": null,
            "height": null,
            "justify_content": null,
            "justify_items": null,
            "left": null,
            "margin": null,
            "max_height": null,
            "max_width": null,
            "min_height": null,
            "min_width": null,
            "object_fit": null,
            "object_position": null,
            "order": null,
            "overflow": null,
            "overflow_x": null,
            "overflow_y": null,
            "padding": null,
            "right": null,
            "top": null,
            "visibility": null,
            "width": null
          }
        },
        "c9dcca21ac5a4d7089c7616c4a6cdfc6": {
          "model_module": "@jupyter-widgets/controls",
          "model_name": "DescriptionStyleModel",
          "model_module_version": "1.5.0",
          "state": {
            "_model_module": "@jupyter-widgets/controls",
            "_model_module_version": "1.5.0",
            "_model_name": "DescriptionStyleModel",
            "_view_count": null,
            "_view_module": "@jupyter-widgets/base",
            "_view_module_version": "1.2.0",
            "_view_name": "StyleView",
            "description_width": ""
          }
        },
        "fa136381fb53451faa41f7bad796f7a8": {
          "model_module": "@jupyter-widgets/base",
          "model_name": "LayoutModel",
          "model_module_version": "1.2.0",
          "state": {
            "_model_module": "@jupyter-widgets/base",
            "_model_module_version": "1.2.0",
            "_model_name": "LayoutModel",
            "_view_count": null,
            "_view_module": "@jupyter-widgets/base",
            "_view_module_version": "1.2.0",
            "_view_name": "LayoutView",
            "align_content": null,
            "align_items": null,
            "align_self": null,
            "border": null,
            "bottom": null,
            "display": null,
            "flex": null,
            "flex_flow": null,
            "grid_area": null,
            "grid_auto_columns": null,
            "grid_auto_flow": null,
            "grid_auto_rows": null,
            "grid_column": null,
            "grid_gap": null,
            "grid_row": null,
            "grid_template_areas": null,
            "grid_template_columns": null,
            "grid_template_rows": null,
            "height": null,
            "justify_content": null,
            "justify_items": null,
            "left": null,
            "margin": null,
            "max_height": null,
            "max_width": null,
            "min_height": null,
            "min_width": null,
            "object_fit": null,
            "object_position": null,
            "order": null,
            "overflow": null,
            "overflow_x": null,
            "overflow_y": null,
            "padding": null,
            "right": null,
            "top": null,
            "visibility": null,
            "width": null
          }
        },
        "60c5932245d74acd8ad5c54398dfc7ea": {
          "model_module": "@jupyter-widgets/controls",
          "model_name": "ProgressStyleModel",
          "model_module_version": "1.5.0",
          "state": {
            "_model_module": "@jupyter-widgets/controls",
            "_model_module_version": "1.5.0",
            "_model_name": "ProgressStyleModel",
            "_view_count": null,
            "_view_module": "@jupyter-widgets/base",
            "_view_module_version": "1.2.0",
            "_view_name": "StyleView",
            "bar_color": null,
            "description_width": ""
          }
        },
        "c279899963d04dbcacfd3413c6ebe407": {
          "model_module": "@jupyter-widgets/base",
          "model_name": "LayoutModel",
          "model_module_version": "1.2.0",
          "state": {
            "_model_module": "@jupyter-widgets/base",
            "_model_module_version": "1.2.0",
            "_model_name": "LayoutModel",
            "_view_count": null,
            "_view_module": "@jupyter-widgets/base",
            "_view_module_version": "1.2.0",
            "_view_name": "LayoutView",
            "align_content": null,
            "align_items": null,
            "align_self": null,
            "border": null,
            "bottom": null,
            "display": null,
            "flex": null,
            "flex_flow": null,
            "grid_area": null,
            "grid_auto_columns": null,
            "grid_auto_flow": null,
            "grid_auto_rows": null,
            "grid_column": null,
            "grid_gap": null,
            "grid_row": null,
            "grid_template_areas": null,
            "grid_template_columns": null,
            "grid_template_rows": null,
            "height": null,
            "justify_content": null,
            "justify_items": null,
            "left": null,
            "margin": null,
            "max_height": null,
            "max_width": null,
            "min_height": null,
            "min_width": null,
            "object_fit": null,
            "object_position": null,
            "order": null,
            "overflow": null,
            "overflow_x": null,
            "overflow_y": null,
            "padding": null,
            "right": null,
            "top": null,
            "visibility": null,
            "width": null
          }
        },
        "63a5a859941c4cbc8381099cb137075e": {
          "model_module": "@jupyter-widgets/controls",
          "model_name": "DescriptionStyleModel",
          "model_module_version": "1.5.0",
          "state": {
            "_model_module": "@jupyter-widgets/controls",
            "_model_module_version": "1.5.0",
            "_model_name": "DescriptionStyleModel",
            "_view_count": null,
            "_view_module": "@jupyter-widgets/base",
            "_view_module_version": "1.2.0",
            "_view_name": "StyleView",
            "description_width": ""
          }
        },
        "e5370c9ed1d3414e84682901a5c8a743": {
          "model_module": "@jupyter-widgets/controls",
          "model_name": "HBoxModel",
          "model_module_version": "1.5.0",
          "state": {
            "_dom_classes": [],
            "_model_module": "@jupyter-widgets/controls",
            "_model_module_version": "1.5.0",
            "_model_name": "HBoxModel",
            "_view_count": null,
            "_view_module": "@jupyter-widgets/controls",
            "_view_module_version": "1.5.0",
            "_view_name": "HBoxView",
            "box_style": "",
            "children": [
              "IPY_MODEL_b74ea3b15e724f989837d0f6c3decafc",
              "IPY_MODEL_fbec3d4fb3c84187814b07ab7884966a",
              "IPY_MODEL_20d10c61f9aa4c8fb9a9e6c8c6417f59"
            ],
            "layout": "IPY_MODEL_0f973c99ae334b92a80e4ee9822c80ab"
          }
        },
        "b74ea3b15e724f989837d0f6c3decafc": {
          "model_module": "@jupyter-widgets/controls",
          "model_name": "HTMLModel",
          "model_module_version": "1.5.0",
          "state": {
            "_dom_classes": [],
            "_model_module": "@jupyter-widgets/controls",
            "_model_module_version": "1.5.0",
            "_model_name": "HTMLModel",
            "_view_count": null,
            "_view_module": "@jupyter-widgets/controls",
            "_view_module_version": "1.5.0",
            "_view_name": "HTMLView",
            "description": "",
            "description_tooltip": null,
            "layout": "IPY_MODEL_aed1aac9c6f84e33a00ca5915ffeb2bc",
            "placeholder": "​",
            "style": "IPY_MODEL_f125ed8196484b4882c39fb2b87f69da",
            "value": "tokenizer_config.json: 100%"
          }
        },
        "fbec3d4fb3c84187814b07ab7884966a": {
          "model_module": "@jupyter-widgets/controls",
          "model_name": "FloatProgressModel",
          "model_module_version": "1.5.0",
          "state": {
            "_dom_classes": [],
            "_model_module": "@jupyter-widgets/controls",
            "_model_module_version": "1.5.0",
            "_model_name": "FloatProgressModel",
            "_view_count": null,
            "_view_module": "@jupyter-widgets/controls",
            "_view_module_version": "1.5.0",
            "_view_name": "ProgressView",
            "bar_style": "success",
            "description": "",
            "description_tooltip": null,
            "layout": "IPY_MODEL_2698f3a7eee843d8b291778b03527da3",
            "max": 450,
            "min": 0,
            "orientation": "horizontal",
            "style": "IPY_MODEL_bf33581608d94151a0fec2a8d7d1e6a9",
            "value": 450
          }
        },
        "20d10c61f9aa4c8fb9a9e6c8c6417f59": {
          "model_module": "@jupyter-widgets/controls",
          "model_name": "HTMLModel",
          "model_module_version": "1.5.0",
          "state": {
            "_dom_classes": [],
            "_model_module": "@jupyter-widgets/controls",
            "_model_module_version": "1.5.0",
            "_model_name": "HTMLModel",
            "_view_count": null,
            "_view_module": "@jupyter-widgets/controls",
            "_view_module_version": "1.5.0",
            "_view_name": "HTMLView",
            "description": "",
            "description_tooltip": null,
            "layout": "IPY_MODEL_e0ba5620a6554319b55a7b97a3d7a854",
            "placeholder": "​",
            "style": "IPY_MODEL_4d73dcb5191044a693044e43996d8288",
            "value": " 450/450 [00:00&lt;00:00, 40.0kB/s]"
          }
        },
        "0f973c99ae334b92a80e4ee9822c80ab": {
          "model_module": "@jupyter-widgets/base",
          "model_name": "LayoutModel",
          "model_module_version": "1.2.0",
          "state": {
            "_model_module": "@jupyter-widgets/base",
            "_model_module_version": "1.2.0",
            "_model_name": "LayoutModel",
            "_view_count": null,
            "_view_module": "@jupyter-widgets/base",
            "_view_module_version": "1.2.0",
            "_view_name": "LayoutView",
            "align_content": null,
            "align_items": null,
            "align_self": null,
            "border": null,
            "bottom": null,
            "display": null,
            "flex": null,
            "flex_flow": null,
            "grid_area": null,
            "grid_auto_columns": null,
            "grid_auto_flow": null,
            "grid_auto_rows": null,
            "grid_column": null,
            "grid_gap": null,
            "grid_row": null,
            "grid_template_areas": null,
            "grid_template_columns": null,
            "grid_template_rows": null,
            "height": null,
            "justify_content": null,
            "justify_items": null,
            "left": null,
            "margin": null,
            "max_height": null,
            "max_width": null,
            "min_height": null,
            "min_width": null,
            "object_fit": null,
            "object_position": null,
            "order": null,
            "overflow": null,
            "overflow_x": null,
            "overflow_y": null,
            "padding": null,
            "right": null,
            "top": null,
            "visibility": null,
            "width": null
          }
        },
        "aed1aac9c6f84e33a00ca5915ffeb2bc": {
          "model_module": "@jupyter-widgets/base",
          "model_name": "LayoutModel",
          "model_module_version": "1.2.0",
          "state": {
            "_model_module": "@jupyter-widgets/base",
            "_model_module_version": "1.2.0",
            "_model_name": "LayoutModel",
            "_view_count": null,
            "_view_module": "@jupyter-widgets/base",
            "_view_module_version": "1.2.0",
            "_view_name": "LayoutView",
            "align_content": null,
            "align_items": null,
            "align_self": null,
            "border": null,
            "bottom": null,
            "display": null,
            "flex": null,
            "flex_flow": null,
            "grid_area": null,
            "grid_auto_columns": null,
            "grid_auto_flow": null,
            "grid_auto_rows": null,
            "grid_column": null,
            "grid_gap": null,
            "grid_row": null,
            "grid_template_areas": null,
            "grid_template_columns": null,
            "grid_template_rows": null,
            "height": null,
            "justify_content": null,
            "justify_items": null,
            "left": null,
            "margin": null,
            "max_height": null,
            "max_width": null,
            "min_height": null,
            "min_width": null,
            "object_fit": null,
            "object_position": null,
            "order": null,
            "overflow": null,
            "overflow_x": null,
            "overflow_y": null,
            "padding": null,
            "right": null,
            "top": null,
            "visibility": null,
            "width": null
          }
        },
        "f125ed8196484b4882c39fb2b87f69da": {
          "model_module": "@jupyter-widgets/controls",
          "model_name": "DescriptionStyleModel",
          "model_module_version": "1.5.0",
          "state": {
            "_model_module": "@jupyter-widgets/controls",
            "_model_module_version": "1.5.0",
            "_model_name": "DescriptionStyleModel",
            "_view_count": null,
            "_view_module": "@jupyter-widgets/base",
            "_view_module_version": "1.2.0",
            "_view_name": "StyleView",
            "description_width": ""
          }
        },
        "2698f3a7eee843d8b291778b03527da3": {
          "model_module": "@jupyter-widgets/base",
          "model_name": "LayoutModel",
          "model_module_version": "1.2.0",
          "state": {
            "_model_module": "@jupyter-widgets/base",
            "_model_module_version": "1.2.0",
            "_model_name": "LayoutModel",
            "_view_count": null,
            "_view_module": "@jupyter-widgets/base",
            "_view_module_version": "1.2.0",
            "_view_name": "LayoutView",
            "align_content": null,
            "align_items": null,
            "align_self": null,
            "border": null,
            "bottom": null,
            "display": null,
            "flex": null,
            "flex_flow": null,
            "grid_area": null,
            "grid_auto_columns": null,
            "grid_auto_flow": null,
            "grid_auto_rows": null,
            "grid_column": null,
            "grid_gap": null,
            "grid_row": null,
            "grid_template_areas": null,
            "grid_template_columns": null,
            "grid_template_rows": null,
            "height": null,
            "justify_content": null,
            "justify_items": null,
            "left": null,
            "margin": null,
            "max_height": null,
            "max_width": null,
            "min_height": null,
            "min_width": null,
            "object_fit": null,
            "object_position": null,
            "order": null,
            "overflow": null,
            "overflow_x": null,
            "overflow_y": null,
            "padding": null,
            "right": null,
            "top": null,
            "visibility": null,
            "width": null
          }
        },
        "bf33581608d94151a0fec2a8d7d1e6a9": {
          "model_module": "@jupyter-widgets/controls",
          "model_name": "ProgressStyleModel",
          "model_module_version": "1.5.0",
          "state": {
            "_model_module": "@jupyter-widgets/controls",
            "_model_module_version": "1.5.0",
            "_model_name": "ProgressStyleModel",
            "_view_count": null,
            "_view_module": "@jupyter-widgets/base",
            "_view_module_version": "1.2.0",
            "_view_name": "StyleView",
            "bar_color": null,
            "description_width": ""
          }
        },
        "e0ba5620a6554319b55a7b97a3d7a854": {
          "model_module": "@jupyter-widgets/base",
          "model_name": "LayoutModel",
          "model_module_version": "1.2.0",
          "state": {
            "_model_module": "@jupyter-widgets/base",
            "_model_module_version": "1.2.0",
            "_model_name": "LayoutModel",
            "_view_count": null,
            "_view_module": "@jupyter-widgets/base",
            "_view_module_version": "1.2.0",
            "_view_name": "LayoutView",
            "align_content": null,
            "align_items": null,
            "align_self": null,
            "border": null,
            "bottom": null,
            "display": null,
            "flex": null,
            "flex_flow": null,
            "grid_area": null,
            "grid_auto_columns": null,
            "grid_auto_flow": null,
            "grid_auto_rows": null,
            "grid_column": null,
            "grid_gap": null,
            "grid_row": null,
            "grid_template_areas": null,
            "grid_template_columns": null,
            "grid_template_rows": null,
            "height": null,
            "justify_content": null,
            "justify_items": null,
            "left": null,
            "margin": null,
            "max_height": null,
            "max_width": null,
            "min_height": null,
            "min_width": null,
            "object_fit": null,
            "object_position": null,
            "order": null,
            "overflow": null,
            "overflow_x": null,
            "overflow_y": null,
            "padding": null,
            "right": null,
            "top": null,
            "visibility": null,
            "width": null
          }
        },
        "4d73dcb5191044a693044e43996d8288": {
          "model_module": "@jupyter-widgets/controls",
          "model_name": "DescriptionStyleModel",
          "model_module_version": "1.5.0",
          "state": {
            "_model_module": "@jupyter-widgets/controls",
            "_model_module_version": "1.5.0",
            "_model_name": "DescriptionStyleModel",
            "_view_count": null,
            "_view_module": "@jupyter-widgets/base",
            "_view_module_version": "1.2.0",
            "_view_name": "StyleView",
            "description_width": ""
          }
        },
        "a792c3657a90427b8ca6e594be1ef767": {
          "model_module": "@jupyter-widgets/controls",
          "model_name": "HBoxModel",
          "model_module_version": "1.5.0",
          "state": {
            "_dom_classes": [],
            "_model_module": "@jupyter-widgets/controls",
            "_model_module_version": "1.5.0",
            "_model_name": "HBoxModel",
            "_view_count": null,
            "_view_module": "@jupyter-widgets/controls",
            "_view_module_version": "1.5.0",
            "_view_name": "HBoxView",
            "box_style": "",
            "children": [
              "IPY_MODEL_0536f2791cea4052b2783e4c866a2521",
              "IPY_MODEL_c3ea99795b7f4b08aad779aebd97bb60",
              "IPY_MODEL_865993e678da4921a8d15a894bdbbc61"
            ],
            "layout": "IPY_MODEL_e0691ae780e248a1b434ec7447b137ef"
          }
        },
        "0536f2791cea4052b2783e4c866a2521": {
          "model_module": "@jupyter-widgets/controls",
          "model_name": "HTMLModel",
          "model_module_version": "1.5.0",
          "state": {
            "_dom_classes": [],
            "_model_module": "@jupyter-widgets/controls",
            "_model_module_version": "1.5.0",
            "_model_name": "HTMLModel",
            "_view_count": null,
            "_view_module": "@jupyter-widgets/controls",
            "_view_module_version": "1.5.0",
            "_view_name": "HTMLView",
            "description": "",
            "description_tooltip": null,
            "layout": "IPY_MODEL_d433c4a24d6b4430a154be08542b7fa1",
            "placeholder": "​",
            "style": "IPY_MODEL_c1408b512c7b4e1fbc698cbc040157ea",
            "value": "tokenizer.json: 100%"
          }
        },
        "c3ea99795b7f4b08aad779aebd97bb60": {
          "model_module": "@jupyter-widgets/controls",
          "model_name": "FloatProgressModel",
          "model_module_version": "1.5.0",
          "state": {
            "_dom_classes": [],
            "_model_module": "@jupyter-widgets/controls",
            "_model_module_version": "1.5.0",
            "_model_name": "FloatProgressModel",
            "_view_count": null,
            "_view_module": "@jupyter-widgets/controls",
            "_view_module_version": "1.5.0",
            "_view_name": "ProgressView",
            "bar_style": "success",
            "description": "",
            "description_tooltip": null,
            "layout": "IPY_MODEL_1697f682022b45e1a80741397ec537aa",
            "max": 2114274,
            "min": 0,
            "orientation": "horizontal",
            "style": "IPY_MODEL_aeb267abc2594a85af2ab5a5169cb229",
            "value": 2114274
          }
        },
        "865993e678da4921a8d15a894bdbbc61": {
          "model_module": "@jupyter-widgets/controls",
          "model_name": "HTMLModel",
          "model_module_version": "1.5.0",
          "state": {
            "_dom_classes": [],
            "_model_module": "@jupyter-widgets/controls",
            "_model_module_version": "1.5.0",
            "_model_name": "HTMLModel",
            "_view_count": null,
            "_view_module": "@jupyter-widgets/controls",
            "_view_module_version": "1.5.0",
            "_view_name": "HTMLView",
            "description": "",
            "description_tooltip": null,
            "layout": "IPY_MODEL_5980279586354749842c3157cfcf3977",
            "placeholder": "​",
            "style": "IPY_MODEL_8d7204f4fe4344afb06055191607800b",
            "value": " 2.11M/2.11M [00:00&lt;00:00, 5.05MB/s]"
          }
        },
        "e0691ae780e248a1b434ec7447b137ef": {
          "model_module": "@jupyter-widgets/base",
          "model_name": "LayoutModel",
          "model_module_version": "1.2.0",
          "state": {
            "_model_module": "@jupyter-widgets/base",
            "_model_module_version": "1.2.0",
            "_model_name": "LayoutModel",
            "_view_count": null,
            "_view_module": "@jupyter-widgets/base",
            "_view_module_version": "1.2.0",
            "_view_name": "LayoutView",
            "align_content": null,
            "align_items": null,
            "align_self": null,
            "border": null,
            "bottom": null,
            "display": null,
            "flex": null,
            "flex_flow": null,
            "grid_area": null,
            "grid_auto_columns": null,
            "grid_auto_flow": null,
            "grid_auto_rows": null,
            "grid_column": null,
            "grid_gap": null,
            "grid_row": null,
            "grid_template_areas": null,
            "grid_template_columns": null,
            "grid_template_rows": null,
            "height": null,
            "justify_content": null,
            "justify_items": null,
            "left": null,
            "margin": null,
            "max_height": null,
            "max_width": null,
            "min_height": null,
            "min_width": null,
            "object_fit": null,
            "object_position": null,
            "order": null,
            "overflow": null,
            "overflow_x": null,
            "overflow_y": null,
            "padding": null,
            "right": null,
            "top": null,
            "visibility": null,
            "width": null
          }
        },
        "d433c4a24d6b4430a154be08542b7fa1": {
          "model_module": "@jupyter-widgets/base",
          "model_name": "LayoutModel",
          "model_module_version": "1.2.0",
          "state": {
            "_model_module": "@jupyter-widgets/base",
            "_model_module_version": "1.2.0",
            "_model_name": "LayoutModel",
            "_view_count": null,
            "_view_module": "@jupyter-widgets/base",
            "_view_module_version": "1.2.0",
            "_view_name": "LayoutView",
            "align_content": null,
            "align_items": null,
            "align_self": null,
            "border": null,
            "bottom": null,
            "display": null,
            "flex": null,
            "flex_flow": null,
            "grid_area": null,
            "grid_auto_columns": null,
            "grid_auto_flow": null,
            "grid_auto_rows": null,
            "grid_column": null,
            "grid_gap": null,
            "grid_row": null,
            "grid_template_areas": null,
            "grid_template_columns": null,
            "grid_template_rows": null,
            "height": null,
            "justify_content": null,
            "justify_items": null,
            "left": null,
            "margin": null,
            "max_height": null,
            "max_width": null,
            "min_height": null,
            "min_width": null,
            "object_fit": null,
            "object_position": null,
            "order": null,
            "overflow": null,
            "overflow_x": null,
            "overflow_y": null,
            "padding": null,
            "right": null,
            "top": null,
            "visibility": null,
            "width": null
          }
        },
        "c1408b512c7b4e1fbc698cbc040157ea": {
          "model_module": "@jupyter-widgets/controls",
          "model_name": "DescriptionStyleModel",
          "model_module_version": "1.5.0",
          "state": {
            "_model_module": "@jupyter-widgets/controls",
            "_model_module_version": "1.5.0",
            "_model_name": "DescriptionStyleModel",
            "_view_count": null,
            "_view_module": "@jupyter-widgets/base",
            "_view_module_version": "1.2.0",
            "_view_name": "StyleView",
            "description_width": ""
          }
        },
        "1697f682022b45e1a80741397ec537aa": {
          "model_module": "@jupyter-widgets/base",
          "model_name": "LayoutModel",
          "model_module_version": "1.2.0",
          "state": {
            "_model_module": "@jupyter-widgets/base",
            "_model_module_version": "1.2.0",
            "_model_name": "LayoutModel",
            "_view_count": null,
            "_view_module": "@jupyter-widgets/base",
            "_view_module_version": "1.2.0",
            "_view_name": "LayoutView",
            "align_content": null,
            "align_items": null,
            "align_self": null,
            "border": null,
            "bottom": null,
            "display": null,
            "flex": null,
            "flex_flow": null,
            "grid_area": null,
            "grid_auto_columns": null,
            "grid_auto_flow": null,
            "grid_auto_rows": null,
            "grid_column": null,
            "grid_gap": null,
            "grid_row": null,
            "grid_template_areas": null,
            "grid_template_columns": null,
            "grid_template_rows": null,
            "height": null,
            "justify_content": null,
            "justify_items": null,
            "left": null,
            "margin": null,
            "max_height": null,
            "max_width": null,
            "min_height": null,
            "min_width": null,
            "object_fit": null,
            "object_position": null,
            "order": null,
            "overflow": null,
            "overflow_x": null,
            "overflow_y": null,
            "padding": null,
            "right": null,
            "top": null,
            "visibility": null,
            "width": null
          }
        },
        "aeb267abc2594a85af2ab5a5169cb229": {
          "model_module": "@jupyter-widgets/controls",
          "model_name": "ProgressStyleModel",
          "model_module_version": "1.5.0",
          "state": {
            "_model_module": "@jupyter-widgets/controls",
            "_model_module_version": "1.5.0",
            "_model_name": "ProgressStyleModel",
            "_view_count": null,
            "_view_module": "@jupyter-widgets/base",
            "_view_module_version": "1.2.0",
            "_view_name": "StyleView",
            "bar_color": null,
            "description_width": ""
          }
        },
        "5980279586354749842c3157cfcf3977": {
          "model_module": "@jupyter-widgets/base",
          "model_name": "LayoutModel",
          "model_module_version": "1.2.0",
          "state": {
            "_model_module": "@jupyter-widgets/base",
            "_model_module_version": "1.2.0",
            "_model_name": "LayoutModel",
            "_view_count": null,
            "_view_module": "@jupyter-widgets/base",
            "_view_module_version": "1.2.0",
            "_view_name": "LayoutView",
            "align_content": null,
            "align_items": null,
            "align_self": null,
            "border": null,
            "bottom": null,
            "display": null,
            "flex": null,
            "flex_flow": null,
            "grid_area": null,
            "grid_auto_columns": null,
            "grid_auto_flow": null,
            "grid_auto_rows": null,
            "grid_column": null,
            "grid_gap": null,
            "grid_row": null,
            "grid_template_areas": null,
            "grid_template_columns": null,
            "grid_template_rows": null,
            "height": null,
            "justify_content": null,
            "justify_items": null,
            "left": null,
            "margin": null,
            "max_height": null,
            "max_width": null,
            "min_height": null,
            "min_width": null,
            "object_fit": null,
            "object_position": null,
            "order": null,
            "overflow": null,
            "overflow_x": null,
            "overflow_y": null,
            "padding": null,
            "right": null,
            "top": null,
            "visibility": null,
            "width": null
          }
        },
        "8d7204f4fe4344afb06055191607800b": {
          "model_module": "@jupyter-widgets/controls",
          "model_name": "DescriptionStyleModel",
          "model_module_version": "1.5.0",
          "state": {
            "_model_module": "@jupyter-widgets/controls",
            "_model_module_version": "1.5.0",
            "_model_name": "DescriptionStyleModel",
            "_view_count": null,
            "_view_module": "@jupyter-widgets/base",
            "_view_module_version": "1.2.0",
            "_view_name": "StyleView",
            "description_width": ""
          }
        },
        "e3f0fcaaed9c4d82865d121a6af11f6c": {
          "model_module": "@jupyter-widgets/controls",
          "model_name": "HBoxModel",
          "model_module_version": "1.5.0",
          "state": {
            "_dom_classes": [],
            "_model_module": "@jupyter-widgets/controls",
            "_model_module_version": "1.5.0",
            "_model_name": "HBoxModel",
            "_view_count": null,
            "_view_module": "@jupyter-widgets/controls",
            "_view_module_version": "1.5.0",
            "_view_name": "HBoxView",
            "box_style": "",
            "children": [
              "IPY_MODEL_93f32dd10b0242ada61408816c7c566f",
              "IPY_MODEL_59d06f992887487db55837dd71613890",
              "IPY_MODEL_5241ba900262441c81d00b0b4e241a5b"
            ],
            "layout": "IPY_MODEL_fd3644b53654455bbda213f49b480dbd"
          }
        },
        "93f32dd10b0242ada61408816c7c566f": {
          "model_module": "@jupyter-widgets/controls",
          "model_name": "HTMLModel",
          "model_module_version": "1.5.0",
          "state": {
            "_dom_classes": [],
            "_model_module": "@jupyter-widgets/controls",
            "_model_module_version": "1.5.0",
            "_model_name": "HTMLModel",
            "_view_count": null,
            "_view_module": "@jupyter-widgets/controls",
            "_view_module_version": "1.5.0",
            "_view_name": "HTMLView",
            "description": "",
            "description_tooltip": null,
            "layout": "IPY_MODEL_28e7fb5a05d449b7b65b0d0cf0c56aa5",
            "placeholder": "​",
            "style": "IPY_MODEL_ca1f0021c00c4afb91f48c4decf3f035",
            "value": "special_tokens_map.json: 100%"
          }
        },
        "59d06f992887487db55837dd71613890": {
          "model_module": "@jupyter-widgets/controls",
          "model_name": "FloatProgressModel",
          "model_module_version": "1.5.0",
          "state": {
            "_dom_classes": [],
            "_model_module": "@jupyter-widgets/controls",
            "_model_module_version": "1.5.0",
            "_model_name": "FloatProgressModel",
            "_view_count": null,
            "_view_module": "@jupyter-widgets/controls",
            "_view_module_version": "1.5.0",
            "_view_name": "ProgressView",
            "bar_style": "success",
            "description": "",
            "description_tooltip": null,
            "layout": "IPY_MODEL_5056c874b0244bf6b47d241e15cf7c7c",
            "max": 228,
            "min": 0,
            "orientation": "horizontal",
            "style": "IPY_MODEL_659d6b52f13249cab51075343b4b163b",
            "value": 228
          }
        },
        "5241ba900262441c81d00b0b4e241a5b": {
          "model_module": "@jupyter-widgets/controls",
          "model_name": "HTMLModel",
          "model_module_version": "1.5.0",
          "state": {
            "_dom_classes": [],
            "_model_module": "@jupyter-widgets/controls",
            "_model_module_version": "1.5.0",
            "_model_name": "HTMLModel",
            "_view_count": null,
            "_view_module": "@jupyter-widgets/controls",
            "_view_module_version": "1.5.0",
            "_view_name": "HTMLView",
            "description": "",
            "description_tooltip": null,
            "layout": "IPY_MODEL_3b819efdcde046bb8877fed6e35c49a0",
            "placeholder": "​",
            "style": "IPY_MODEL_6e32e5c5e3d14fe788f8116337b067ac",
            "value": " 228/228 [00:00&lt;00:00, 19.7kB/s]"
          }
        },
        "fd3644b53654455bbda213f49b480dbd": {
          "model_module": "@jupyter-widgets/base",
          "model_name": "LayoutModel",
          "model_module_version": "1.2.0",
          "state": {
            "_model_module": "@jupyter-widgets/base",
            "_model_module_version": "1.2.0",
            "_model_name": "LayoutModel",
            "_view_count": null,
            "_view_module": "@jupyter-widgets/base",
            "_view_module_version": "1.2.0",
            "_view_name": "LayoutView",
            "align_content": null,
            "align_items": null,
            "align_self": null,
            "border": null,
            "bottom": null,
            "display": null,
            "flex": null,
            "flex_flow": null,
            "grid_area": null,
            "grid_auto_columns": null,
            "grid_auto_flow": null,
            "grid_auto_rows": null,
            "grid_column": null,
            "grid_gap": null,
            "grid_row": null,
            "grid_template_areas": null,
            "grid_template_columns": null,
            "grid_template_rows": null,
            "height": null,
            "justify_content": null,
            "justify_items": null,
            "left": null,
            "margin": null,
            "max_height": null,
            "max_width": null,
            "min_height": null,
            "min_width": null,
            "object_fit": null,
            "object_position": null,
            "order": null,
            "overflow": null,
            "overflow_x": null,
            "overflow_y": null,
            "padding": null,
            "right": null,
            "top": null,
            "visibility": null,
            "width": null
          }
        },
        "28e7fb5a05d449b7b65b0d0cf0c56aa5": {
          "model_module": "@jupyter-widgets/base",
          "model_name": "LayoutModel",
          "model_module_version": "1.2.0",
          "state": {
            "_model_module": "@jupyter-widgets/base",
            "_model_module_version": "1.2.0",
            "_model_name": "LayoutModel",
            "_view_count": null,
            "_view_module": "@jupyter-widgets/base",
            "_view_module_version": "1.2.0",
            "_view_name": "LayoutView",
            "align_content": null,
            "align_items": null,
            "align_self": null,
            "border": null,
            "bottom": null,
            "display": null,
            "flex": null,
            "flex_flow": null,
            "grid_area": null,
            "grid_auto_columns": null,
            "grid_auto_flow": null,
            "grid_auto_rows": null,
            "grid_column": null,
            "grid_gap": null,
            "grid_row": null,
            "grid_template_areas": null,
            "grid_template_columns": null,
            "grid_template_rows": null,
            "height": null,
            "justify_content": null,
            "justify_items": null,
            "left": null,
            "margin": null,
            "max_height": null,
            "max_width": null,
            "min_height": null,
            "min_width": null,
            "object_fit": null,
            "object_position": null,
            "order": null,
            "overflow": null,
            "overflow_x": null,
            "overflow_y": null,
            "padding": null,
            "right": null,
            "top": null,
            "visibility": null,
            "width": null
          }
        },
        "ca1f0021c00c4afb91f48c4decf3f035": {
          "model_module": "@jupyter-widgets/controls",
          "model_name": "DescriptionStyleModel",
          "model_module_version": "1.5.0",
          "state": {
            "_model_module": "@jupyter-widgets/controls",
            "_model_module_version": "1.5.0",
            "_model_name": "DescriptionStyleModel",
            "_view_count": null,
            "_view_module": "@jupyter-widgets/base",
            "_view_module_version": "1.2.0",
            "_view_name": "StyleView",
            "description_width": ""
          }
        },
        "5056c874b0244bf6b47d241e15cf7c7c": {
          "model_module": "@jupyter-widgets/base",
          "model_name": "LayoutModel",
          "model_module_version": "1.2.0",
          "state": {
            "_model_module": "@jupyter-widgets/base",
            "_model_module_version": "1.2.0",
            "_model_name": "LayoutModel",
            "_view_count": null,
            "_view_module": "@jupyter-widgets/base",
            "_view_module_version": "1.2.0",
            "_view_name": "LayoutView",
            "align_content": null,
            "align_items": null,
            "align_self": null,
            "border": null,
            "bottom": null,
            "display": null,
            "flex": null,
            "flex_flow": null,
            "grid_area": null,
            "grid_auto_columns": null,
            "grid_auto_flow": null,
            "grid_auto_rows": null,
            "grid_column": null,
            "grid_gap": null,
            "grid_row": null,
            "grid_template_areas": null,
            "grid_template_columns": null,
            "grid_template_rows": null,
            "height": null,
            "justify_content": null,
            "justify_items": null,
            "left": null,
            "margin": null,
            "max_height": null,
            "max_width": null,
            "min_height": null,
            "min_width": null,
            "object_fit": null,
            "object_position": null,
            "order": null,
            "overflow": null,
            "overflow_x": null,
            "overflow_y": null,
            "padding": null,
            "right": null,
            "top": null,
            "visibility": null,
            "width": null
          }
        },
        "659d6b52f13249cab51075343b4b163b": {
          "model_module": "@jupyter-widgets/controls",
          "model_name": "ProgressStyleModel",
          "model_module_version": "1.5.0",
          "state": {
            "_model_module": "@jupyter-widgets/controls",
            "_model_module_version": "1.5.0",
            "_model_name": "ProgressStyleModel",
            "_view_count": null,
            "_view_module": "@jupyter-widgets/base",
            "_view_module_version": "1.2.0",
            "_view_name": "StyleView",
            "bar_color": null,
            "description_width": ""
          }
        },
        "3b819efdcde046bb8877fed6e35c49a0": {
          "model_module": "@jupyter-widgets/base",
          "model_name": "LayoutModel",
          "model_module_version": "1.2.0",
          "state": {
            "_model_module": "@jupyter-widgets/base",
            "_model_module_version": "1.2.0",
            "_model_name": "LayoutModel",
            "_view_count": null,
            "_view_module": "@jupyter-widgets/base",
            "_view_module_version": "1.2.0",
            "_view_name": "LayoutView",
            "align_content": null,
            "align_items": null,
            "align_self": null,
            "border": null,
            "bottom": null,
            "display": null,
            "flex": null,
            "flex_flow": null,
            "grid_area": null,
            "grid_auto_columns": null,
            "grid_auto_flow": null,
            "grid_auto_rows": null,
            "grid_column": null,
            "grid_gap": null,
            "grid_row": null,
            "grid_template_areas": null,
            "grid_template_columns": null,
            "grid_template_rows": null,
            "height": null,
            "justify_content": null,
            "justify_items": null,
            "left": null,
            "margin": null,
            "max_height": null,
            "max_width": null,
            "min_height": null,
            "min_width": null,
            "object_fit": null,
            "object_position": null,
            "order": null,
            "overflow": null,
            "overflow_x": null,
            "overflow_y": null,
            "padding": null,
            "right": null,
            "top": null,
            "visibility": null,
            "width": null
          }
        },
        "6e32e5c5e3d14fe788f8116337b067ac": {
          "model_module": "@jupyter-widgets/controls",
          "model_name": "DescriptionStyleModel",
          "model_module_version": "1.5.0",
          "state": {
            "_model_module": "@jupyter-widgets/controls",
            "_model_module_version": "1.5.0",
            "_model_name": "DescriptionStyleModel",
            "_view_count": null,
            "_view_module": "@jupyter-widgets/base",
            "_view_module_version": "1.2.0",
            "_view_name": "StyleView",
            "description_width": ""
          }
        }
      }
    }
  },
  "cells": [
    {
      "cell_type": "markdown",
      "metadata": {
        "id": "view-in-github",
        "colab_type": "text"
      },
      "source": [
        "<a href=\"https://colab.research.google.com/github/kishoretvk/jsonAI/blob/main/JsonAI.ipynb\" target=\"_parent\"><img src=\"https://colab.research.google.com/assets/colab-badge.svg\" alt=\"Open In Colab\"/></a>"
      ]
    },
    {
      "cell_type": "code",
      "execution_count": null,
      "metadata": {
        "id": "c05P9T_wrzUn"
      },
      "outputs": [],
      "source": [
        "# autoreload your package\n",
        "%load_ext autoreload\n",
        "%autoreload 2"
      ]
    },
    {
      "cell_type": "code",
      "source": [
        "from transformers import AutoModelForCausalLM, AutoTokenizer\n",
        "import torch\n",
        "\n",
        "print(\"Loading model and tokenizer...\")\n",
        "model_name = \"databricks/dolly-v2-3b\"\n",
        "model = AutoModelForCausalLM.from_pretrained(\n",
        "    model_name,\n",
        "    use_cache=True,\n",
        "    torch_dtype=torch.float16,\n",
        "    attn_implementation=\"eager\",\n",
        ").to(\"cuda:0\")\n",
        "tokenizer = AutoTokenizer.from_pretrained(model_name, use_fast=True, use_cache=True)\n",
        "print(\"Loaded model and tokenizer\")"
      ],
      "metadata": {
        "colab": {
          "base_uri": "https://localhost:8080/",
          "height": 376,
          "referenced_widgets": [
            "03bbb8b566df4969984a69c084dd5022",
            "fbaf2c7d8834454fb7cd55427c8ebda1",
            "ecf7b510247d426fbf2d7ef5225c3059",
            "f3df7e7e383147b795a138e525e061da",
            "19aceddb6534411db6464d01d1501091",
            "3deabdc3e678436ebda964629eb27d0a",
            "4c94a07c45ca4600b9c53e8b47208715",
            "9a0831f2fa3a4b2db970cb7e1c23c75e",
            "e354959a85f847878148a80220f85342",
            "7bc4a38a749743558b0e4c3430cad13a",
            "eeba2e16aa9a4b4ab5a93f076e11c43d",
            "f92523a4974b47bca0f4954582c32d09",
            "b13cc2ad731147ce841a0d706dd463b8",
            "5de5cd33f2a3459b9a6417e6b86bbffc",
            "c3fb99e7f3a7421abfc55f2c04f8750e",
            "6f0c3f96948e43c48f0be66ef863b651",
            "8cd290d998c14f49a63dd62a4f547ffb",
            "c9dcca21ac5a4d7089c7616c4a6cdfc6",
            "fa136381fb53451faa41f7bad796f7a8",
            "60c5932245d74acd8ad5c54398dfc7ea",
            "c279899963d04dbcacfd3413c6ebe407",
            "63a5a859941c4cbc8381099cb137075e",
            "e5370c9ed1d3414e84682901a5c8a743",
            "b74ea3b15e724f989837d0f6c3decafc",
            "fbec3d4fb3c84187814b07ab7884966a",
            "20d10c61f9aa4c8fb9a9e6c8c6417f59",
            "0f973c99ae334b92a80e4ee9822c80ab",
            "aed1aac9c6f84e33a00ca5915ffeb2bc",
            "f125ed8196484b4882c39fb2b87f69da",
            "2698f3a7eee843d8b291778b03527da3",
            "bf33581608d94151a0fec2a8d7d1e6a9",
            "e0ba5620a6554319b55a7b97a3d7a854",
            "4d73dcb5191044a693044e43996d8288",
            "a792c3657a90427b8ca6e594be1ef767",
            "0536f2791cea4052b2783e4c866a2521",
            "c3ea99795b7f4b08aad779aebd97bb60",
            "865993e678da4921a8d15a894bdbbc61",
            "e0691ae780e248a1b434ec7447b137ef",
            "d433c4a24d6b4430a154be08542b7fa1",
            "c1408b512c7b4e1fbc698cbc040157ea",
            "1697f682022b45e1a80741397ec537aa",
            "aeb267abc2594a85af2ab5a5169cb229",
            "5980279586354749842c3157cfcf3977",
            "8d7204f4fe4344afb06055191607800b",
            "e3f0fcaaed9c4d82865d121a6af11f6c",
            "93f32dd10b0242ada61408816c7c566f",
            "59d06f992887487db55837dd71613890",
            "5241ba900262441c81d00b0b4e241a5b",
            "fd3644b53654455bbda213f49b480dbd",
            "28e7fb5a05d449b7b65b0d0cf0c56aa5",
            "ca1f0021c00c4afb91f48c4decf3f035",
            "5056c874b0244bf6b47d241e15cf7c7c",
            "659d6b52f13249cab51075343b4b163b",
            "3b819efdcde046bb8877fed6e35c49a0",
            "6e32e5c5e3d14fe788f8116337b067ac"
          ]
        },
        "id": "e9msQbwisbbN",
        "outputId": "8ef0c18c-e96b-4d92-ab6a-0c80f1a65695"
      },
      "execution_count": null,
      "outputs": [
        {
          "output_type": "stream",
          "name": "stdout",
          "text": [
            "Loading model and tokenizer...\n"
          ]
        },
        {
          "output_type": "stream",
          "name": "stderr",
          "text": [
            "/usr/local/lib/python3.10/dist-packages/huggingface_hub/utils/_token.py:89: UserWarning: \n",
            "The secret `HF_TOKEN` does not exist in your Colab secrets.\n",
            "To authenticate with the Hugging Face Hub, create a token in your settings tab (https://huggingface.co/settings/tokens), set it as secret in your Google Colab and restart your session.\n",
            "You will be able to reuse this secret in all of your notebooks.\n",
            "Please note that authentication is recommended but still optional to access public models or datasets.\n",
            "  warnings.warn(\n"
          ]
        },
        {
          "output_type": "display_data",
          "data": {
            "text/plain": [
              "config.json:   0%|          | 0.00/819 [00:00<?, ?B/s]"
            ],
            "application/vnd.jupyter.widget-view+json": {
              "version_major": 2,
              "version_minor": 0,
              "model_id": "03bbb8b566df4969984a69c084dd5022"
            }
          },
          "metadata": {}
        },
        {
          "output_type": "display_data",
          "data": {
            "text/plain": [
              "pytorch_model.bin:   0%|          | 0.00/5.68G [00:00<?, ?B/s]"
            ],
            "application/vnd.jupyter.widget-view+json": {
              "version_major": 2,
              "version_minor": 0,
              "model_id": "f92523a4974b47bca0f4954582c32d09"
            }
          },
          "metadata": {}
        },
        {
          "output_type": "display_data",
          "data": {
            "text/plain": [
              "tokenizer_config.json:   0%|          | 0.00/450 [00:00<?, ?B/s]"
            ],
            "application/vnd.jupyter.widget-view+json": {
              "version_major": 2,
              "version_minor": 0,
              "model_id": "e5370c9ed1d3414e84682901a5c8a743"
            }
          },
          "metadata": {}
        },
        {
          "output_type": "display_data",
          "data": {
            "text/plain": [
              "tokenizer.json:   0%|          | 0.00/2.11M [00:00<?, ?B/s]"
            ],
            "application/vnd.jupyter.widget-view+json": {
              "version_major": 2,
              "version_minor": 0,
              "model_id": "a792c3657a90427b8ca6e594be1ef767"
            }
          },
          "metadata": {}
        },
        {
          "output_type": "display_data",
          "data": {
            "text/plain": [
              "special_tokens_map.json:   0%|          | 0.00/228 [00:00<?, ?B/s]"
            ],
            "application/vnd.jupyter.widget-view+json": {
              "version_major": 2,
              "version_minor": 0,
              "model_id": "e3f0fcaaed9c4d82865d121a6af11f6c"
            }
          },
          "metadata": {}
        },
        {
          "output_type": "stream",
          "name": "stdout",
          "text": [
            "Loaded model and tokenizer\n"
          ]
        },
        {
          "output_type": "stream",
          "name": "stderr",
          "text": [
            "/usr/local/lib/python3.10/dist-packages/transformers/tokenization_utils_base.py:1601: FutureWarning: `clean_up_tokenization_spaces` was not set. It will be set to `True` by default. This behavior will be depracted in transformers v4.45, and will be then set to `False` by default. For more details check this issue: https://github.com/huggingface/transformers/issues/31884\n",
            "  warnings.warn(\n"
          ]
        }
      ]
    },
    {
      "cell_type": "code",
      "source": [],
      "metadata": {
        "id": "xUzq20C2uv1_"
      },
      "execution_count": null,
      "outputs": []
    },
    {
      "cell_type": "code",
      "source": [
        "%cd /content/jsonAI\n"
      ],
      "metadata": {
        "colab": {
          "base_uri": "https://localhost:8080/"
        },
        "id": "U4YBA_gr9iXr",
        "outputId": "3a7e7c83-5efe-4e03-891b-063840e8dd4b"
      },
      "execution_count": null,
      "outputs": [
        {
          "output_type": "stream",
          "name": "stdout",
          "text": [
            "[Errno 2] No such file or directory: '/content/jsonAI'\n",
            "/content\n"
          ]
        }
      ]
    },
    {
      "cell_type": "code",
      "source": [
        "!git pull origin main\n"
      ],
      "metadata": {
        "colab": {
          "base_uri": "https://localhost:8080/"
        },
        "id": "7IXrMnj29lkr",
        "outputId": "af22c6d3-70eb-4e9e-fb46-acc918fad40e"
      },
      "execution_count": null,
      "outputs": [
        {
          "output_type": "stream",
          "name": "stdout",
          "text": [
            "remote: Enumerating objects: 7, done.\u001b[K\n",
            "remote: Counting objects:  14% (1/7)\u001b[K\rremote: Counting objects:  28% (2/7)\u001b[K\rremote: Counting objects:  42% (3/7)\u001b[K\rremote: Counting objects:  57% (4/7)\u001b[K\rremote: Counting objects:  71% (5/7)\u001b[K\rremote: Counting objects:  85% (6/7)\u001b[K\rremote: Counting objects: 100% (7/7)\u001b[K\rremote: Counting objects: 100% (7/7), done.\u001b[K\n",
            "remote: Compressing objects: 100% (1/1)\u001b[K\rremote: Compressing objects: 100% (1/1), done.\u001b[K\n",
            "remote: Total 4 (delta 3), reused 4 (delta 3), pack-reused 0 (from 0)\u001b[K\n",
            "Unpacking objects:  25% (1/4)\rUnpacking objects:  50% (2/4)\rUnpacking objects:  75% (3/4)\rUnpacking objects: 100% (4/4)\rUnpacking objects: 100% (4/4), 342 bytes | 342.00 KiB/s, done.\n",
            "From https://github.com/kishoretvk/jsonAI\n",
            " * branch            main       -> FETCH_HEAD\n",
            "   0e209fc..0281b5c  main       -> origin/main\n",
            "Updating 0e209fc..0281b5c\n",
            "Fast-forward\n",
            " jsonAI/main.py | 4 \u001b[32m+++\u001b[m\u001b[31m-\u001b[m\n",
            " 1 file changed, 3 insertions(+), 1 deletion(-)\n"
          ]
        }
      ]
    },
    {
      "cell_type": "code",
      "source": [
        "!git clone https://github.com/kishoretvk/jsonAI.git\n",
        "%cd jsonAI"
      ],
      "metadata": {
        "colab": {
          "base_uri": "https://localhost:8080/"
        },
        "id": "7Nhi3bb1s4pc",
        "outputId": "9c7aa58e-44cd-44b8-9ab8-0a0a1c8ffafb"
      },
      "execution_count": null,
      "outputs": [
        {
          "output_type": "stream",
          "name": "stdout",
          "text": [
            "Cloning into 'jsonAI'...\n",
            "remote: Enumerating objects: 415, done.\u001b[K\n",
            "remote: Counting objects: 100% (277/277), done.\u001b[K\n",
            "remote: Compressing objects: 100% (172/172), done.\u001b[K\n",
            "remote: Total 415 (delta 178), reused 156 (delta 100), pack-reused 138 (from 1)\u001b[K\n",
            "Receiving objects: 100% (415/415), 1.32 MiB | 20.43 MiB/s, done.\n",
            "Resolving deltas: 100% (238/238), done.\n",
            "/content/jsonAI\n"
          ]
        }
      ]
    },
    {
      "cell_type": "code",
      "source": [
        "!pip install jaxtyping termcolor typeguard"
      ],
      "metadata": {
        "colab": {
          "base_uri": "https://localhost:8080/"
        },
        "id": "r8eRybu1wzu0",
        "outputId": "8d521da9-5334-4409-b88a-a085407a504d"
      },
      "execution_count": null,
      "outputs": [
        {
          "output_type": "stream",
          "name": "stdout",
          "text": [
            "Requirement already satisfied: jaxtyping in /usr/local/lib/python3.10/dist-packages (0.2.34)\n",
            "Requirement already satisfied: termcolor in /usr/local/lib/python3.10/dist-packages (2.4.0)\n",
            "Requirement already satisfied: typeguard in /usr/local/lib/python3.10/dist-packages (2.13.3)\n"
          ]
        }
      ]
    },
    {
      "cell_type": "code",
      "source": [
        "from jsonAI.format import highlight_values\n",
        "from jsonAI.main import Jsonformer\n"
      ],
      "metadata": {
        "id": "mJkrvGu9w6ZE"
      },
      "execution_count": null,
      "outputs": []
    },
    {
      "cell_type": "code",
      "source": [
        "ecomm = {\n",
        "    \"type\": \"object\",\n",
        "    \"properties\": {\n",
        "        \"store\": {\n",
        "            \"type\": \"object\",\n",
        "            \"properties\": {\n",
        "                \"name\": {\"type\": \"string\"},\n",
        "                \"location\": {\"type\": \"string\"},\n",
        "                \"p_enum\": {\n",
        "                    \"type\": \"p_enum\",\n",
        "                    \"enum\": [\"ski\", \"snowboard\", \"walk\", \"pretend\"],\n",
        "                    \"values\": [\"ski\", \"snowboard\", \"walk\", \"pretend\"]  # Add this line\n",
        "                },\n",
        "                \"inventory\": {\n",
        "                    \"type\": \"array\",\n",
        "                    \"items\": {\n",
        "                        \"type\": \"object\",\n",
        "                        \"properties\": {\n",
        "                            \"productId\": {\"type\": \"string\"},\n",
        "                            \"name\": {\"type\": \"string\"},\n",
        "                            \"description\": {\"type\": \"string\"},\n",
        "                            \"category\": {\"type\": \"string\"},\n",
        "                            \"price\": {\"type\": \"number\"},\n",
        "                            \"inStock\": {\"type\": \"boolean\"},\n",
        "                            \"rating\": {\"type\": \"number\"},\n",
        "                            \"images\": {\"type\": \"array\", \"items\": {\"type\": \"string\"}},\n",
        "                        },\n",
        "                    },\n",
        "                },\n",
        "            },\n",
        "        }\n",
        "    },\n",
        "}"
      ],
      "metadata": {
        "id": "vwvfNo8Qw7xL"
      },
      "execution_count": null,
      "outputs": []
    },
    {
      "cell_type": "code",
      "source": [],
      "metadata": {
        "id": "AlkCKhI-w2UB"
      },
      "execution_count": null,
      "outputs": []
    },
    {
      "cell_type": "code",
      "source": [
        "# Define the JSON schema\n",
        "json_schema = {\n",
        "    \"type\": \"object\",\n",
        "    \"properties\": {\n",
        "        \"transaction_id\": {\"type\": \"uuid\"},\n",
        "        \"store\": {\n",
        "            \"type\": \"object\",\n",
        "            \"properties\": {\n",
        "                \"name\": {\"type\": \"string\"},\n",
        "                \"location\": {\"type\": \"string\"},\n",
        "                \"datetime\": {\"type\": \"datetime\"}\n",
        "            }\n",
        "        },\n",
        "        \"customer\": {\n",
        "            \"type\": \"object\",\n",
        "            \"properties\": {\n",
        "                \"customer_id\": {\"type\": \"uuid\"},\n",
        "                \"name\": {\"type\": \"string\"},\n",
        "                \"membership\": {\"type\": \"boolean\"}\n",
        "            }\n",
        "        },\n",
        "        \"items\": {\n",
        "            \"type\": \"array\",\n",
        "            \"items\": {\n",
        "                \"type\": \"object\",\n",
        "                \"properties\": {\n",
        "                    \"item_id\": {\"type\": \"uuid\"},\n",
        "                    \"name\": {\"type\": \"string\"},\n",
        "                    \"category\": {\"type\": \"string\"},\n",
        "                    \"price\": {\"type\": \"number\"},\n",
        "                    \"quantity\": {\"type\": \"integer\"}\n",
        "                }\n",
        "            }\n",
        "        },\n",
        "        \"total_amount\": {\"type\": \"number\"},\n",
        "        \"payment_method\": {\"type\": \"string\"},\n",
        "        \"transaction_date\": {\"type\": \"date\"},\n",
        "        \"transaction_time\": {\"type\": \"time\"},\n",
        "        \"receipt_binary\": {\"type\": \"binary\"}\n",
        "    }\n",
        "}\n",
        "\n",
        "# Define the prompt\n",
        "prompt = \"Generate a JSON object representing a transaction at a Starbucks coffee shop. The transaction includes details such as transaction ID, store information, customer information, items purchased, total amount, payment method, transaction date and time, and a binary receipt.\"\n",
        "\n",
        "# Initialize Jsonformer\n",
        "jsonformer = Jsonformer(\n",
        "    model=model,\n",
        "    tokenizer=tokenizer,\n",
        "    json_schema=json_schema,\n",
        "    prompt=prompt,\n",
        "    debug=True\n",
        ")\n",
        "\n",
        "# Generate the data\n",
        "generated_data = jsonformer()\n",
        "print(generated_data)\n",
        "\n"
      ],
      "metadata": {
        "id": "KWPyoR66tfsg",
        "colab": {
          "base_uri": "https://localhost:8080/"
        },
        "outputId": "601b714a-abb1-43f3-de3e-9d19822bd00a"
      },
      "execution_count": null,
      "outputs": [
        {
          "output_type": "stream",
          "name": "stdout",
          "text": [
            "[generate_object] generating value for transaction_id\n",
            "[generate_uuid] Generate a JSON object representing a transaction at a Starbucks coffee shop. The transaction includes details such as transaction ID, store information, customer information, items purchased, total amount, payment method, transaction date and time, and a binary receipt.\n",
            "Output result in the following JSON schema format:\n",
            "```json{\"type\": \"object\", \"properties\": {\"transaction_id\": {\"type\": \"uuid\"}, \"store\": {\"type\": \"object\", \"properties\": {\"name\": {\"type\": \"string\"}, \"location\": {\"type\": \"string\"}, \"datetime\": {\"type\": \"datetime\"}}}, \"customer\": {\"type\": \"object\", \"properties\": {\"customer_id\": {\"type\": \"uuid\"}, \"name\": {\"type\": \"string\"}, \"membership\": {\"type\": \"boolean\"}}}, \"items\": {\"type\": \"array\", \"items\": {\"type\": \"object\", \"properties\": {\"item_id\": {\"type\": \"uuid\"}, \"name\": {\"type\": \"string\"}, \"category\": {\"type\": \"string\"}, \"price\": {\"type\": \"number\"}, \"quantity\": {\"type\": \"integer\"}}}}, \"total_amount\": {\"type\": \"number\"}, \"payment_method\": {\"type\": \"string\"}, \"transaction_date\": {\"type\": \"date\"}, \"transaction_time\": {\"type\": \"time\"}, \"receipt_binary\": {\"type\": \"binary\"}}}```\n",
            "Result: ```json\n",
            "{\"transaction_id\": \n",
            "[generate_uuid] 035a6195-5536-4272-966b-ba700c6de39c\n",
            "[generate_object] generating value for store\n",
            "[generate_object] generating value for name\n",
            "[generate_string] Generate a JSON object representing a transaction at a Starbucks coffee shop. The transaction includes details such as transaction ID, store information, customer information, items purchased, total amount, payment method, transaction date and time, and a binary receipt.\n",
            "Output result in the following JSON schema format:\n",
            "```json{\"type\": \"object\", \"properties\": {\"transaction_id\": {\"type\": \"uuid\"}, \"store\": {\"type\": \"object\", \"properties\": {\"name\": {\"type\": \"string\"}, \"location\": {\"type\": \"string\"}, \"datetime\": {\"type\": \"datetime\"}}}, \"customer\": {\"type\": \"object\", \"properties\": {\"customer_id\": {\"type\": \"uuid\"}, \"name\": {\"type\": \"string\"}, \"membership\": {\"type\": \"boolean\"}}}, \"items\": {\"type\": \"array\", \"items\": {\"type\": \"object\", \"properties\": {\"item_id\": {\"type\": \"uuid\"}, \"name\": {\"type\": \"string\"}, \"category\": {\"type\": \"string\"}, \"price\": {\"type\": \"number\"}, \"quantity\": {\"type\": \"integer\"}}}}, \"total_amount\": {\"type\": \"number\"}, \"payment_method\": {\"type\": \"string\"}, \"transaction_date\": {\"type\": \"date\"}, \"transaction_time\": {\"type\": \"time\"}, \"receipt_binary\": {\"type\": \"binary\"}}}```\n",
            "Result: ```json\n",
            "{\"transaction_id\": \"035a6195-5536-4272-966b-ba700c6de39c\", \"store\": {\"name\": \"\n",
            "[generate_string] |Starbucks\",|\n",
            "[generate_object] generating value for location\n",
            "[generate_string] Generate a JSON object representing a transaction at a Starbucks coffee shop. The transaction includes details such as transaction ID, store information, customer information, items purchased, total amount, payment method, transaction date and time, and a binary receipt.\n",
            "Output result in the following JSON schema format:\n",
            "```json{\"type\": \"object\", \"properties\": {\"transaction_id\": {\"type\": \"uuid\"}, \"store\": {\"type\": \"object\", \"properties\": {\"name\": {\"type\": \"string\"}, \"location\": {\"type\": \"string\"}, \"datetime\": {\"type\": \"datetime\"}}}, \"customer\": {\"type\": \"object\", \"properties\": {\"customer_id\": {\"type\": \"uuid\"}, \"name\": {\"type\": \"string\"}, \"membership\": {\"type\": \"boolean\"}}}, \"items\": {\"type\": \"array\", \"items\": {\"type\": \"object\", \"properties\": {\"item_id\": {\"type\": \"uuid\"}, \"name\": {\"type\": \"string\"}, \"category\": {\"type\": \"string\"}, \"price\": {\"type\": \"number\"}, \"quantity\": {\"type\": \"integer\"}}}}, \"total_amount\": {\"type\": \"number\"}, \"payment_method\": {\"type\": \"string\"}, \"transaction_date\": {\"type\": \"date\"}, \"transaction_time\": {\"type\": \"time\"}, \"receipt_binary\": {\"type\": \"binary\"}}}```\n",
            "Result: ```json\n",
            "{\"transaction_id\": \"035a6195-5536-4272-966b-ba700c6de39c\", \"store\": {\"name\": \"Starbucks\", \"location\": \"\n",
            "[generate_string] |San Francisco\",|\n",
            "[generate_object] generating value for datetime\n",
            "[generate_datetime] Generate a JSON object representing a transaction at a Starbucks coffee shop. The transaction includes details such as transaction ID, store information, customer information, items purchased, total amount, payment method, transaction date and time, and a binary receipt.\n",
            "Output result in the following JSON schema format:\n",
            "```json{\"type\": \"object\", \"properties\": {\"transaction_id\": {\"type\": \"uuid\"}, \"store\": {\"type\": \"object\", \"properties\": {\"name\": {\"type\": \"string\"}, \"location\": {\"type\": \"string\"}, \"datetime\": {\"type\": \"datetime\"}}}, \"customer\": {\"type\": \"object\", \"properties\": {\"customer_id\": {\"type\": \"uuid\"}, \"name\": {\"type\": \"string\"}, \"membership\": {\"type\": \"boolean\"}}}, \"items\": {\"type\": \"array\", \"items\": {\"type\": \"object\", \"properties\": {\"item_id\": {\"type\": \"uuid\"}, \"name\": {\"type\": \"string\"}, \"category\": {\"type\": \"string\"}, \"price\": {\"type\": \"number\"}, \"quantity\": {\"type\": \"integer\"}}}}, \"total_amount\": {\"type\": \"number\"}, \"payment_method\": {\"type\": \"string\"}, \"transaction_date\": {\"type\": \"date\"}, \"transaction_time\": {\"type\": \"time\"}, \"receipt_binary\": {\"type\": \"binary\"}}}```\n",
            "Result: ```json\n",
            "{\"transaction_id\": \"035a6195-5536-4272-966b-ba700c6de39c\", \"store\": {\"name\": \"Starbucks\", \"location\": \"San Francisco\", \"datetime\": \n",
            "[generate_object] generating value for customer\n",
            "[generate_object] generating value for customer_id\n",
            "[generate_uuid] Generate a JSON object representing a transaction at a Starbucks coffee shop. The transaction includes details such as transaction ID, store information, customer information, items purchased, total amount, payment method, transaction date and time, and a binary receipt.\n",
            "Output result in the following JSON schema format:\n",
            "```json{\"type\": \"object\", \"properties\": {\"transaction_id\": {\"type\": \"uuid\"}, \"store\": {\"type\": \"object\", \"properties\": {\"name\": {\"type\": \"string\"}, \"location\": {\"type\": \"string\"}, \"datetime\": {\"type\": \"datetime\"}}}, \"customer\": {\"type\": \"object\", \"properties\": {\"customer_id\": {\"type\": \"uuid\"}, \"name\": {\"type\": \"string\"}, \"membership\": {\"type\": \"boolean\"}}}, \"items\": {\"type\": \"array\", \"items\": {\"type\": \"object\", \"properties\": {\"item_id\": {\"type\": \"uuid\"}, \"name\": {\"type\": \"string\"}, \"category\": {\"type\": \"string\"}, \"price\": {\"type\": \"number\"}, \"quantity\": {\"type\": \"integer\"}}}}, \"total_amount\": {\"type\": \"number\"}, \"payment_method\": {\"type\": \"string\"}, \"transaction_date\": {\"type\": \"date\"}, \"transaction_time\": {\"type\": \"time\"}, \"receipt_binary\": {\"type\": \"binary\"}}}```\n",
            "Result: ```json\n",
            "{\"transaction_id\": \"035a6195-5536-4272-966b-ba700c6de39c\", \"store\": {\"name\": \"Starbucks\", \"location\": \"San Francisco\", \"datetime\": \"2024-09-21T19:47:28.164729\"}, \"customer\": {\"customer_id\": \n",
            "[generate_uuid] b8a61099-4baf-4352-af86-922f476f2bfc\n",
            "[generate_object] generating value for name\n",
            "[generate_string] Generate a JSON object representing a transaction at a Starbucks coffee shop. The transaction includes details such as transaction ID, store information, customer information, items purchased, total amount, payment method, transaction date and time, and a binary receipt.\n",
            "Output result in the following JSON schema format:\n",
            "```json{\"type\": \"object\", \"properties\": {\"transaction_id\": {\"type\": \"uuid\"}, \"store\": {\"type\": \"object\", \"properties\": {\"name\": {\"type\": \"string\"}, \"location\": {\"type\": \"string\"}, \"datetime\": {\"type\": \"datetime\"}}}, \"customer\": {\"type\": \"object\", \"properties\": {\"customer_id\": {\"type\": \"uuid\"}, \"name\": {\"type\": \"string\"}, \"membership\": {\"type\": \"boolean\"}}}, \"items\": {\"type\": \"array\", \"items\": {\"type\": \"object\", \"properties\": {\"item_id\": {\"type\": \"uuid\"}, \"name\": {\"type\": \"string\"}, \"category\": {\"type\": \"string\"}, \"price\": {\"type\": \"number\"}, \"quantity\": {\"type\": \"integer\"}}}}, \"total_amount\": {\"type\": \"number\"}, \"payment_method\": {\"type\": \"string\"}, \"transaction_date\": {\"type\": \"date\"}, \"transaction_time\": {\"type\": \"time\"}, \"receipt_binary\": {\"type\": \"binary\"}}}```\n",
            "Result: ```json\n",
            "{\"transaction_id\": \"035a6195-5536-4272-966b-ba700c6de39c\", \"store\": {\"name\": \"Starbucks\", \"location\": \"San Francisco\", \"datetime\": \"2024-09-21T19:47:28.164729\"}, \"customer\": {\"customer_id\": \"b8a61099-4baf-4352-af86-922f476f2bfc\", \"name\": \"\n",
            "[generate_string] |John Doe\",|\n",
            "[generate_object] generating value for membership\n",
            "[generate_boolean] Generate a JSON object representing a transaction at a Starbucks coffee shop. The transaction includes details such as transaction ID, store information, customer information, items purchased, total amount, payment method, transaction date and time, and a binary receipt.\n",
            "Output result in the following JSON schema format:\n",
            "```json{\"type\": \"object\", \"properties\": {\"transaction_id\": {\"type\": \"uuid\"}, \"store\": {\"type\": \"object\", \"properties\": {\"name\": {\"type\": \"string\"}, \"location\": {\"type\": \"string\"}, \"datetime\": {\"type\": \"datetime\"}}}, \"customer\": {\"type\": \"object\", \"properties\": {\"customer_id\": {\"type\": \"uuid\"}, \"name\": {\"type\": \"string\"}, \"membership\": {\"type\": \"boolean\"}}}, \"items\": {\"type\": \"array\", \"items\": {\"type\": \"object\", \"properties\": {\"item_id\": {\"type\": \"uuid\"}, \"name\": {\"type\": \"string\"}, \"category\": {\"type\": \"string\"}, \"price\": {\"type\": \"number\"}, \"quantity\": {\"type\": \"integer\"}}}}, \"total_amount\": {\"type\": \"number\"}, \"payment_method\": {\"type\": \"string\"}, \"transaction_date\": {\"type\": \"date\"}, \"transaction_time\": {\"type\": \"time\"}, \"receipt_binary\": {\"type\": \"binary\"}}}```\n",
            "Result: ```json\n",
            "{\"transaction_id\": \"035a6195-5536-4272-966b-ba700c6de39c\", \"store\": {\"name\": \"Starbucks\", \"location\": \"San Francisco\", \"datetime\": \"2024-09-21T19:47:28.164729\"}, \"customer\": {\"customer_id\": \"b8a61099-4baf-4352-af86-922f476f2bfc\", \"name\": \"John Doe\", \"membership\": \n",
            "[generate_boolean] tensor(True, device='cuda:0')\n",
            "[generate_object] generating value for items\n",
            "[generate_object] generating value for item_id\n",
            "[generate_uuid] Generate a JSON object representing a transaction at a Starbucks coffee shop. The transaction includes details such as transaction ID, store information, customer information, items purchased, total amount, payment method, transaction date and time, and a binary receipt.\n",
            "Output result in the following JSON schema format:\n",
            "```json{\"type\": \"object\", \"properties\": {\"transaction_id\": {\"type\": \"uuid\"}, \"store\": {\"type\": \"object\", \"properties\": {\"name\": {\"type\": \"string\"}, \"location\": {\"type\": \"string\"}, \"datetime\": {\"type\": \"datetime\"}}}, \"customer\": {\"type\": \"object\", \"properties\": {\"customer_id\": {\"type\": \"uuid\"}, \"name\": {\"type\": \"string\"}, \"membership\": {\"type\": \"boolean\"}}}, \"items\": {\"type\": \"array\", \"items\": {\"type\": \"object\", \"properties\": {\"item_id\": {\"type\": \"uuid\"}, \"name\": {\"type\": \"string\"}, \"category\": {\"type\": \"string\"}, \"price\": {\"type\": \"number\"}, \"quantity\": {\"type\": \"integer\"}}}}, \"total_amount\": {\"type\": \"number\"}, \"payment_method\": {\"type\": \"string\"}, \"transaction_date\": {\"type\": \"date\"}, \"transaction_time\": {\"type\": \"time\"}, \"receipt_binary\": {\"type\": \"binary\"}}}```\n",
            "Result: ```json\n",
            "{\"transaction_id\": \"035a6195-5536-4272-966b-ba700c6de39c\", \"store\": {\"name\": \"Starbucks\", \"location\": \"San Francisco\", \"datetime\": \"2024-09-21T19:47:28.164729\"}, \"customer\": {\"customer_id\": \"b8a61099-4baf-4352-af86-922f476f2bfc\", \"name\": \"John Doe\", \"membership\": true}, \"items\": [{\"item_id\": \n",
            "[generate_uuid] f60a82b6-b7e8-4a85-a202-fc6aa28e1de8\n",
            "[generate_object] generating value for name\n",
            "[generate_string] Generate a JSON object representing a transaction at a Starbucks coffee shop. The transaction includes details such as transaction ID, store information, customer information, items purchased, total amount, payment method, transaction date and time, and a binary receipt.\n",
            "Output result in the following JSON schema format:\n",
            "```json{\"type\": \"object\", \"properties\": {\"transaction_id\": {\"type\": \"uuid\"}, \"store\": {\"type\": \"object\", \"properties\": {\"name\": {\"type\": \"string\"}, \"location\": {\"type\": \"string\"}, \"datetime\": {\"type\": \"datetime\"}}}, \"customer\": {\"type\": \"object\", \"properties\": {\"customer_id\": {\"type\": \"uuid\"}, \"name\": {\"type\": \"string\"}, \"membership\": {\"type\": \"boolean\"}}}, \"items\": {\"type\": \"array\", \"items\": {\"type\": \"object\", \"properties\": {\"item_id\": {\"type\": \"uuid\"}, \"name\": {\"type\": \"string\"}, \"category\": {\"type\": \"string\"}, \"price\": {\"type\": \"number\"}, \"quantity\": {\"type\": \"integer\"}}}}, \"total_amount\": {\"type\": \"number\"}, \"payment_method\": {\"type\": \"string\"}, \"transaction_date\": {\"type\": \"date\"}, \"transaction_time\": {\"type\": \"time\"}, \"receipt_binary\": {\"type\": \"binary\"}}}```\n",
            "Result: ```json\n",
            "{\"transaction_id\": \"035a6195-5536-4272-966b-ba700c6de39c\", \"store\": {\"name\": \"Starbucks\", \"location\": \"San Francisco\", \"datetime\": \"2024-09-21T19:47:28.164729\"}, \"customer\": {\"customer_id\": \"b8a61099-4baf-4352-af86-922f476f2bfc\", \"name\": \"John Doe\", \"membership\": true}, \"items\": [{\"item_id\": \"f60a82b6-b7e8-4a85-a202-fc6aa28e1de8\", \"name\": \"\n",
            "[generate_string] |Coffee\",|\n",
            "[generate_object] generating value for category\n",
            "[generate_string] Generate a JSON object representing a transaction at a Starbucks coffee shop. The transaction includes details such as transaction ID, store information, customer information, items purchased, total amount, payment method, transaction date and time, and a binary receipt.\n",
            "Output result in the following JSON schema format:\n",
            "```json{\"type\": \"object\", \"properties\": {\"transaction_id\": {\"type\": \"uuid\"}, \"store\": {\"type\": \"object\", \"properties\": {\"name\": {\"type\": \"string\"}, \"location\": {\"type\": \"string\"}, \"datetime\": {\"type\": \"datetime\"}}}, \"customer\": {\"type\": \"object\", \"properties\": {\"customer_id\": {\"type\": \"uuid\"}, \"name\": {\"type\": \"string\"}, \"membership\": {\"type\": \"boolean\"}}}, \"items\": {\"type\": \"array\", \"items\": {\"type\": \"object\", \"properties\": {\"item_id\": {\"type\": \"uuid\"}, \"name\": {\"type\": \"string\"}, \"category\": {\"type\": \"string\"}, \"price\": {\"type\": \"number\"}, \"quantity\": {\"type\": \"integer\"}}}}, \"total_amount\": {\"type\": \"number\"}, \"payment_method\": {\"type\": \"string\"}, \"transaction_date\": {\"type\": \"date\"}, \"transaction_time\": {\"type\": \"time\"}, \"receipt_binary\": {\"type\": \"binary\"}}}```\n",
            "Result: ```json\n",
            "{\"transaction_id\": \"035a6195-5536-4272-966b-ba700c6de39c\", \"store\": {\"name\": \"Starbucks\", \"location\": \"San Francisco\", \"datetime\": \"2024-09-21T19:47:28.164729\"}, \"customer\": {\"customer_id\": \"b8a61099-4baf-4352-af86-922f476f2bfc\", \"name\": \"John Doe\", \"membership\": true}, \"items\": [{\"item_id\": \"f60a82b6-b7e8-4a85-a202-fc6aa28e1de8\", \"name\": \"Coffee\", \"category\": \"\n",
            "[generate_string] |Drip Brew\",|\n",
            "[generate_object] generating value for price\n",
            "[generate_number] Generate a JSON object representing a transaction at a Starbucks coffee shop. The transaction includes details such as transaction ID, store information, customer information, items purchased, total amount, payment method, transaction date and time, and a binary receipt.\n",
            "Output result in the following JSON schema format:\n",
            "```json{\"type\": \"object\", \"properties\": {\"transaction_id\": {\"type\": \"uuid\"}, \"store\": {\"type\": \"object\", \"properties\": {\"name\": {\"type\": \"string\"}, \"location\": {\"type\": \"string\"}, \"datetime\": {\"type\": \"datetime\"}}}, \"customer\": {\"type\": \"object\", \"properties\": {\"customer_id\": {\"type\": \"uuid\"}, \"name\": {\"type\": \"string\"}, \"membership\": {\"type\": \"boolean\"}}}, \"items\": {\"type\": \"array\", \"items\": {\"type\": \"object\", \"properties\": {\"item_id\": {\"type\": \"uuid\"}, \"name\": {\"type\": \"string\"}, \"category\": {\"type\": \"string\"}, \"price\": {\"type\": \"number\"}, \"quantity\": {\"type\": \"integer\"}}}}, \"total_amount\": {\"type\": \"number\"}, \"payment_method\": {\"type\": \"string\"}, \"transaction_date\": {\"type\": \"date\"}, \"transaction_time\": {\"type\": \"time\"}, \"receipt_binary\": {\"type\": \"binary\"}}}```\n",
            "Result: ```json\n",
            "{\"transaction_id\": \"035a6195-5536-4272-966b-ba700c6de39c\", \"store\": {\"name\": \"Starbucks\", \"location\": \"San Francisco\", \"datetime\": \"2024-09-21T19:47:28.164729\"}, \"customer\": {\"customer_id\": \"b8a61099-4baf-4352-af86-922f476f2bfc\", \"name\": \"John Doe\", \"membership\": true}, \"items\": [{\"item_id\": \"f60a82b6-b7e8-4a85-a202-fc6aa28e1de8\", \"name\": \"Coffee\", \"category\": \"Drip Brew\", \"price\": \n",
            "[generate_number] \n",
            "10\n",
            "[generate_object] generating value for quantity\n",
            "[generate_integer] Generate a JSON object representing a transaction at a Starbucks coffee shop. The transaction includes details such as transaction ID, store information, customer information, items purchased, total amount, payment method, transaction date and time, and a binary receipt.\n",
            "Output result in the following JSON schema format:\n",
            "```json{\"type\": \"object\", \"properties\": {\"transaction_id\": {\"type\": \"uuid\"}, \"store\": {\"type\": \"object\", \"properties\": {\"name\": {\"type\": \"string\"}, \"location\": {\"type\": \"string\"}, \"datetime\": {\"type\": \"datetime\"}}}, \"customer\": {\"type\": \"object\", \"properties\": {\"customer_id\": {\"type\": \"uuid\"}, \"name\": {\"type\": \"string\"}, \"membership\": {\"type\": \"boolean\"}}}, \"items\": {\"type\": \"array\", \"items\": {\"type\": \"object\", \"properties\": {\"item_id\": {\"type\": \"uuid\"}, \"name\": {\"type\": \"string\"}, \"category\": {\"type\": \"string\"}, \"price\": {\"type\": \"number\"}, \"quantity\": {\"type\": \"integer\"}}}}, \"total_amount\": {\"type\": \"number\"}, \"payment_method\": {\"type\": \"string\"}, \"transaction_date\": {\"type\": \"date\"}, \"transaction_time\": {\"type\": \"time\"}, \"receipt_binary\": {\"type\": \"binary\"}}}```\n",
            "Result: ```json\n",
            "{\"transaction_id\": \"035a6195-5536-4272-966b-ba700c6de39c\", \"store\": {\"name\": \"Starbucks\", \"location\": \"San Francisco\", \"datetime\": \"2024-09-21T19:47:28.164729\"}, \"customer\": {\"customer_id\": \"b8a61099-4baf-4352-af86-922f476f2bfc\", \"name\": \"John Doe\", \"membership\": true}, \"items\": [{\"item_id\": \"f60a82b6-b7e8-4a85-a202-fc6aa28e1de8\", \"name\": \"Coffee\", \"category\": \"Drip Brew\", \"price\": 10.0, \"quantity\": \n",
            "[generate_integer] \n",
            "10000000\n",
            "[generate_object] generating value for total_amount\n",
            "[generate_number] Generate a JSON object representing a transaction at a Starbucks coffee shop. The transaction includes details such as transaction ID, store information, customer information, items purchased, total amount, payment method, transaction date and time, and a binary receipt.\n",
            "Output result in the following JSON schema format:\n",
            "```json{\"type\": \"object\", \"properties\": {\"transaction_id\": {\"type\": \"uuid\"}, \"store\": {\"type\": \"object\", \"properties\": {\"name\": {\"type\": \"string\"}, \"location\": {\"type\": \"string\"}, \"datetime\": {\"type\": \"datetime\"}}}, \"customer\": {\"type\": \"object\", \"properties\": {\"customer_id\": {\"type\": \"uuid\"}, \"name\": {\"type\": \"string\"}, \"membership\": {\"type\": \"boolean\"}}}, \"items\": {\"type\": \"array\", \"items\": {\"type\": \"object\", \"properties\": {\"item_id\": {\"type\": \"uuid\"}, \"name\": {\"type\": \"string\"}, \"category\": {\"type\": \"string\"}, \"price\": {\"type\": \"number\"}, \"quantity\": {\"type\": \"integer\"}}}}, \"total_amount\": {\"type\": \"number\"}, \"payment_method\": {\"type\": \"string\"}, \"transaction_date\": {\"type\": \"date\"}, \"transaction_time\": {\"type\": \"time\"}, \"receipt_binary\": {\"type\": \"binary\"}}}```\n",
            "Result: ```json\n",
            "{\"transaction_id\": \"035a6195-5536-4272-966b-ba700c6de39c\", \"store\": {\"name\": \"Starbucks\", \"location\": \"San Francisco\", \"datetime\": \"2024-09-21T19:47:28.164729\"}, \"customer\": {\"customer_id\": \"b8a61099-4baf-4352-af86-922f476f2bfc\", \"name\": \"John Doe\", \"membership\": true}, \"items\": [{\"item_id\": \"f60a82b6-b7e8-4a85-a202-fc6aa28e1de8\", \"name\": \"Coffee\", \"category\": \"Drip Brew\", \"price\": 10.0, \"quantity\": 10000000}], \"total_amount\": \n",
            "[generate_number] \n",
            "2024092119\n",
            "[generate_object] generating value for payment_method\n",
            "[generate_string] Generate a JSON object representing a transaction at a Starbucks coffee shop. The transaction includes details such as transaction ID, store information, customer information, items purchased, total amount, payment method, transaction date and time, and a binary receipt.\n",
            "Output result in the following JSON schema format:\n",
            "```json{\"type\": \"object\", \"properties\": {\"transaction_id\": {\"type\": \"uuid\"}, \"store\": {\"type\": \"object\", \"properties\": {\"name\": {\"type\": \"string\"}, \"location\": {\"type\": \"string\"}, \"datetime\": {\"type\": \"datetime\"}}}, \"customer\": {\"type\": \"object\", \"properties\": {\"customer_id\": {\"type\": \"uuid\"}, \"name\": {\"type\": \"string\"}, \"membership\": {\"type\": \"boolean\"}}}, \"items\": {\"type\": \"array\", \"items\": {\"type\": \"object\", \"properties\": {\"item_id\": {\"type\": \"uuid\"}, \"name\": {\"type\": \"string\"}, \"category\": {\"type\": \"string\"}, \"price\": {\"type\": \"number\"}, \"quantity\": {\"type\": \"integer\"}}}}, \"total_amount\": {\"type\": \"number\"}, \"payment_method\": {\"type\": \"string\"}, \"transaction_date\": {\"type\": \"date\"}, \"transaction_time\": {\"type\": \"time\"}, \"receipt_binary\": {\"type\": \"binary\"}}}```\n",
            "Result: ```json\n",
            "{\"transaction_id\": \"035a6195-5536-4272-966b-ba700c6de39c\", \"store\": {\"name\": \"Starbucks\", \"location\": \"San Francisco\", \"datetime\": \"2024-09-21T19:47:28.164729\"}, \"customer\": {\"customer_id\": \"b8a61099-4baf-4352-af86-922f476f2bfc\", \"name\": \"John Doe\", \"membership\": true}, \"items\": [{\"item_id\": \"f60a82b6-b7e8-4a85-a202-fc6aa28e1de8\", \"name\": \"Coffee\", \"category\": \"Drip Brew\", \"price\": 10.0, \"quantity\": 10000000}], \"total_amount\": 2024092119.0, \"payment_method\": \"\n",
            "[generate_string] |card\",|\n",
            "[generate_object] generating value for transaction_date\n",
            "[generate_date] Generate a JSON object representing a transaction at a Starbucks coffee shop. The transaction includes details such as transaction ID, store information, customer information, items purchased, total amount, payment method, transaction date and time, and a binary receipt.\n",
            "Output result in the following JSON schema format:\n",
            "```json{\"type\": \"object\", \"properties\": {\"transaction_id\": {\"type\": \"uuid\"}, \"store\": {\"type\": \"object\", \"properties\": {\"name\": {\"type\": \"string\"}, \"location\": {\"type\": \"string\"}, \"datetime\": {\"type\": \"datetime\"}}}, \"customer\": {\"type\": \"object\", \"properties\": {\"customer_id\": {\"type\": \"uuid\"}, \"name\": {\"type\": \"string\"}, \"membership\": {\"type\": \"boolean\"}}}, \"items\": {\"type\": \"array\", \"items\": {\"type\": \"object\", \"properties\": {\"item_id\": {\"type\": \"uuid\"}, \"name\": {\"type\": \"string\"}, \"category\": {\"type\": \"string\"}, \"price\": {\"type\": \"number\"}, \"quantity\": {\"type\": \"integer\"}}}}, \"total_amount\": {\"type\": \"number\"}, \"payment_method\": {\"type\": \"string\"}, \"transaction_date\": {\"type\": \"date\"}, \"transaction_time\": {\"type\": \"time\"}, \"receipt_binary\": {\"type\": \"binary\"}}}```\n",
            "Result: ```json\n",
            "{\"transaction_id\": \"035a6195-5536-4272-966b-ba700c6de39c\", \"store\": {\"name\": \"Starbucks\", \"location\": \"San Francisco\", \"datetime\": \"2024-09-21T19:47:28.164729\"}, \"customer\": {\"customer_id\": \"b8a61099-4baf-4352-af86-922f476f2bfc\", \"name\": \"John Doe\", \"membership\": true}, \"items\": [{\"item_id\": \"f60a82b6-b7e8-4a85-a202-fc6aa28e1de8\", \"name\": \"Coffee\", \"category\": \"Drip Brew\", \"price\": 10.0, \"quantity\": 10000000}], \"total_amount\": 2024092119.0, \"payment_method\": \"card\", \"transaction_date\": \n",
            "[generate_object] generating value for transaction_time\n",
            "[generate_time] Generate a JSON object representing a transaction at a Starbucks coffee shop. The transaction includes details such as transaction ID, store information, customer information, items purchased, total amount, payment method, transaction date and time, and a binary receipt.\n",
            "Output result in the following JSON schema format:\n",
            "```json{\"type\": \"object\", \"properties\": {\"transaction_id\": {\"type\": \"uuid\"}, \"store\": {\"type\": \"object\", \"properties\": {\"name\": {\"type\": \"string\"}, \"location\": {\"type\": \"string\"}, \"datetime\": {\"type\": \"datetime\"}}}, \"customer\": {\"type\": \"object\", \"properties\": {\"customer_id\": {\"type\": \"uuid\"}, \"name\": {\"type\": \"string\"}, \"membership\": {\"type\": \"boolean\"}}}, \"items\": {\"type\": \"array\", \"items\": {\"type\": \"object\", \"properties\": {\"item_id\": {\"type\": \"uuid\"}, \"name\": {\"type\": \"string\"}, \"category\": {\"type\": \"string\"}, \"price\": {\"type\": \"number\"}, \"quantity\": {\"type\": \"integer\"}}}}, \"total_amount\": {\"type\": \"number\"}, \"payment_method\": {\"type\": \"string\"}, \"transaction_date\": {\"type\": \"date\"}, \"transaction_time\": {\"type\": \"time\"}, \"receipt_binary\": {\"type\": \"binary\"}}}```\n",
            "Result: ```json\n",
            "{\"transaction_id\": \"035a6195-5536-4272-966b-ba700c6de39c\", \"store\": {\"name\": \"Starbucks\", \"location\": \"San Francisco\", \"datetime\": \"2024-09-21T19:47:28.164729\"}, \"customer\": {\"customer_id\": \"b8a61099-4baf-4352-af86-922f476f2bfc\", \"name\": \"John Doe\", \"membership\": true}, \"items\": [{\"item_id\": \"f60a82b6-b7e8-4a85-a202-fc6aa28e1de8\", \"name\": \"Coffee\", \"category\": \"Drip Brew\", \"price\": 10.0, \"quantity\": 10000000}], \"total_amount\": 2024092119.0, \"payment_method\": \"card\", \"transaction_date\": \"2024-09-21\", \"transaction_time\": \n",
            "[generate_object] generating value for receipt_binary\n",
            "[generate_binary] Generate a JSON object representing a transaction at a Starbucks coffee shop. The transaction includes details such as transaction ID, store information, customer information, items purchased, total amount, payment method, transaction date and time, and a binary receipt.\n",
            "Output result in the following JSON schema format:\n",
            "```json{\"type\": \"object\", \"properties\": {\"transaction_id\": {\"type\": \"uuid\"}, \"store\": {\"type\": \"object\", \"properties\": {\"name\": {\"type\": \"string\"}, \"location\": {\"type\": \"string\"}, \"datetime\": {\"type\": \"datetime\"}}}, \"customer\": {\"type\": \"object\", \"properties\": {\"customer_id\": {\"type\": \"uuid\"}, \"name\": {\"type\": \"string\"}, \"membership\": {\"type\": \"boolean\"}}}, \"items\": {\"type\": \"array\", \"items\": {\"type\": \"object\", \"properties\": {\"item_id\": {\"type\": \"uuid\"}, \"name\": {\"type\": \"string\"}, \"category\": {\"type\": \"string\"}, \"price\": {\"type\": \"number\"}, \"quantity\": {\"type\": \"integer\"}}}}, \"total_amount\": {\"type\": \"number\"}, \"payment_method\": {\"type\": \"string\"}, \"transaction_date\": {\"type\": \"date\"}, \"transaction_time\": {\"type\": \"time\"}, \"receipt_binary\": {\"type\": \"binary\"}}}```\n",
            "Result: ```json\n",
            "{\"transaction_id\": \"035a6195-5536-4272-966b-ba700c6de39c\", \"store\": {\"name\": \"Starbucks\", \"location\": \"San Francisco\", \"datetime\": \"2024-09-21T19:47:28.164729\"}, \"customer\": {\"customer_id\": \"b8a61099-4baf-4352-af86-922f476f2bfc\", \"name\": \"John Doe\", \"membership\": true}, \"items\": [{\"item_id\": \"f60a82b6-b7e8-4a85-a202-fc6aa28e1de8\", \"name\": \"Coffee\", \"category\": \"Drip Brew\", \"price\": 10.0, \"quantity\": 10000000}], \"total_amount\": 2024092119.0, \"payment_method\": \"card\", \"transaction_date\": \"2024-09-21\", \"transaction_time\": \"19:47:30.686584\", \"receipt_binary\": \n",
            "{'transaction_id': '035a6195-5536-4272-966b-ba700c6de39c', 'store': {'name': 'Starbucks', 'location': 'San Francisco', 'datetime': '2024-09-21T19:47:28.164729'}, 'customer': {'customer_id': 'b8a61099-4baf-4352-af86-922f476f2bfc', 'name': 'John Doe', 'membership': True}, 'items': [{'item_id': 'f60a82b6-b7e8-4a85-a202-fc6aa28e1de8', 'name': 'Coffee', 'category': 'Drip Brew', 'price': 10.0, 'quantity': 10000000}], 'total_amount': 2024092119.0, 'payment_method': 'card', 'transaction_date': '2024-09-21', 'transaction_time': '19:47:30.686584', 'receipt_binary': 'ZXhhbXBsZSBiaW5hcnkgZGF0YQ=='}\n"
          ]
        }
      ]
    },
    {
      "cell_type": "code",
      "source": [
        "highlight_values(generated_data)"
      ],
      "metadata": {
        "id": "8WcIW7uaIXvu",
        "outputId": "6ae59521-2165-4aff-e41c-bffbddab210c",
        "colab": {
          "base_uri": "https://localhost:8080/"
        }
      },
      "execution_count": null,
      "outputs": [
        {
          "output_type": "stream",
          "name": "stdout",
          "text": [
            "{\n",
            "  transaction_id: \"035a6195-5536-4272-966b-ba700c6de39c\",\n",
            "  store: {\n",
            "    name: \"Starbucks\",\n",
            "    location: \"San Francisco\",\n",
            "    datetime: \"2024-09-21T19:47:28.164729\"\n",
            "  },\n",
            "  customer: {\n",
            "    customer_id: \"b8a61099-4baf-4352-af86-922f476f2bfc\",\n",
            "    name: \"John Doe\",\n",
            "    membership: True\n",
            "  },\n",
            "  items: [\n",
            "    {\n",
            "      item_id: \"f60a82b6-b7e8-4a85-a202-fc6aa28e1de8\",\n",
            "      name: \"Coffee\",\n",
            "      category: \"Drip Brew\",\n",
            "      price: 10.0,\n",
            "      quantity: 10000000\n",
            "    }\n",
            "  ],\n",
            "  total_amount: 2024092119.0,\n",
            "  payment_method: \"card\",\n",
            "  transaction_date: \"2024-09-21\",\n",
            "  transaction_time: \"19:47:30.686584\",\n",
            "  receipt_binary: \"ZXhhbXBsZSBiaW5hcnkgZGF0YQ==\"\n",
            "}\n"
          ]
        }
      ]
    },
    {
      "cell_type": "code",
      "source": [],
      "metadata": {
        "colab": {
          "base_uri": "https://localhost:8080/"
        },
        "id": "1Tk-zIDDtkYA",
        "outputId": "a4bcdd5f-9788-4d7f-e28a-5ec8f832bbb4"
      },
      "execution_count": null,
      "outputs": [
        {
          "output_type": "stream",
          "name": "stdout",
          "text": [
            "Generating...\n",
            "{\n",
            "  store: {\n",
            "    name: \"Mike's Ski Shop\",\n",
            "    location: \"Mt. Bachelor\",\n",
            "    p_enum: [\n",
            "      {\n",
            "        prob: 0.81,\n",
            "        choice: \"ski\"\n",
            "      },\n",
            "      {\n",
            "        prob: 0.189,\n",
            "        choice: \"snowboard\"\n",
            "      },\n",
            "      {\n",
            "        prob: 0.000318,\n",
            "        choice: \"pretend\"\n",
            "      },\n",
            "      {\n",
            "        prob: 0.000178,\n",
            "        choice: \"walk\"\n",
            "      }\n",
            "    ],\n",
            "    inventory: [\n",
            "      {\n",
            "        productId: \"5c8c8e7e-e7c0-4b2a-b\",\n",
            "        name: \"Snowboard\",\n",
            "        description: \"A snowboard is a type of board sports equipment used for snowboarding. Snowboards are made of\",\n",
            "        category: \"snowboarding\",\n",
            "        price: 20.0,\n",
            "        inStock: True,\n",
            "        rating: 5.0,\n",
            "        images: [\n",
            "          \"https://s3.amazonaws.com/mikesskisport/snowboard\"\n",
            "        ]\n",
            "      },\n",
            "      {\n",
            "        productId: \"5c8c8e7e-e7c0-4b2a-b\",\n",
            "        name: \"Skis\",\n",
            "        description: \"Skis are the primary snowboard equipment used for snowboarding. Skis are made of\",\n",
            "        category: \"snowboarding\",\n",
            "        price: 20.0,\n",
            "        inStock: True,\n",
            "        rating: 5.0,\n",
            "        images: [\n",
            "          \"https://s3.amazonaws.com/mikesskisport/skis\"\n",
            "        ]\n",
            "      }\n",
            "    ]\n",
            "  }\n",
            "}\n"
          ]
        }
      ]
    },
    {
      "cell_type": "code",
      "source": [
        "cd"
      ],
      "metadata": {
        "colab": {
          "base_uri": "https://localhost:8080/"
        },
        "id": "gBAIl0R0tofo",
        "outputId": "b5d970fe-fc81-4d55-b1b0-d5804d0d3ef8"
      },
      "execution_count": null,
      "outputs": [
        {
          "output_type": "stream",
          "name": "stdout",
          "text": [
            "/root\n"
          ]
        }
      ]
    },
    {
      "cell_type": "code",
      "source": [
        "# Step 1: Clone the repository (if not already cloned)\n",
        "!git clone https://github.com/kishoretvk/jsonAI.git\n",
        "\n",
        "# Step 2: Navigate to the cloned repository\n",
        "%cd /root/jsonAI\n",
        "\n",
        "# Step 3: Upgrade pip, setuptools, and wheel\n",
        "!pip install --upgrade pip setuptools wheel\n",
        "\n",
        "# Step 4: Install all dependencies\n",
        "!pip install ."
      ],
      "metadata": {
        "colab": {
          "base_uri": "https://localhost:8080/",
          "height": 673
        },
        "id": "JPIV3-PHtstI",
        "outputId": "407166d9-ccb2-439c-d278-4b57f350844b"
      },
      "execution_count": 2,
      "outputs": [
        {
          "output_type": "stream",
          "name": "stdout",
          "text": [
            "Cloning into 'jsonAI'...\n",
            "remote: Enumerating objects: 175, done.\u001b[K\n",
            "remote: Counting objects: 100% (175/175), done.\u001b[K\n",
            "remote: Compressing objects: 100% (136/136), done.\u001b[K\n",
            "remote: Total 175 (delta 73), reused 59 (delta 15), pack-reused 0 (from 0)\u001b[K\n",
            "Receiving objects: 100% (175/175), 282.87 KiB | 14.14 MiB/s, done.\n",
            "Resolving deltas: 100% (73/73), done.\n",
            "[Errno 2] No such file or directory: '/root/jsonAI'\n",
            "/content\n",
            "Requirement already satisfied: pip in /usr/local/lib/python3.10/dist-packages (24.1.2)\n",
            "Collecting pip\n",
            "  Using cached pip-24.2-py3-none-any.whl.metadata (3.6 kB)\n",
            "Requirement already satisfied: setuptools in /usr/local/lib/python3.10/dist-packages (71.0.4)\n",
            "Collecting setuptools\n",
            "  Using cached setuptools-75.1.0-py3-none-any.whl.metadata (6.9 kB)\n",
            "Requirement already satisfied: wheel in /usr/local/lib/python3.10/dist-packages (0.44.0)\n",
            "Using cached pip-24.2-py3-none-any.whl (1.8 MB)\n",
            "Using cached setuptools-75.1.0-py3-none-any.whl (1.2 MB)\n",
            "Installing collected packages: setuptools, pip\n",
            "  Attempting uninstall: setuptools\n",
            "    Found existing installation: setuptools 71.0.4\n",
            "    Uninstalling setuptools-71.0.4:\n",
            "      Successfully uninstalled setuptools-71.0.4\n",
            "  Attempting uninstall: pip\n",
            "    Found existing installation: pip 24.1.2\n",
            "    Uninstalling pip-24.1.2:\n",
            "      Successfully uninstalled pip-24.1.2\n",
            "\u001b[31mERROR: pip's dependency resolver does not currently take into account all the packages that are installed. This behaviour is the source of the following dependency conflicts.\n",
            "ipython 7.34.0 requires jedi>=0.16, which is not installed.\u001b[0m\u001b[31m\n",
            "\u001b[0mSuccessfully installed pip-24.2 setuptools-75.1.0\n"
          ]
        },
        {
          "output_type": "display_data",
          "data": {
            "application/vnd.colab-display-data+json": {
              "pip_warning": {
                "packages": [
                  "_distutils_hack",
                  "pkg_resources",
                  "setuptools"
                ]
              },
              "id": "cc7545339f454166aa71b7d295a20fe4"
            }
          },
          "metadata": {}
        },
        {
          "output_type": "stream",
          "name": "stdout",
          "text": [
            "\u001b[31mERROR: Directory '.' is not installable. Neither 'setup.py' nor 'pyproject.toml' found.\u001b[0m\u001b[31m\n",
            "\u001b[0m"
          ]
        }
      ]
    },
    {
      "cell_type": "code",
      "source": [],
      "metadata": {
        "colab": {
          "base_uri": "https://localhost:8080/",
          "height": 36
        },
        "id": "4UtrrkqAydxI",
        "outputId": "10e718d1-053a-4d03-fd60-71ae58a6d2b4"
      },
      "execution_count": null,
      "outputs": [
        {
          "output_type": "execute_result",
          "data": {
            "text/plain": [
              "'/root/jsonAI/jsonAI'"
            ],
            "application/vnd.google.colaboratory.intrinsic+json": {
              "type": "string"
            }
          },
          "metadata": {},
          "execution_count": 25
        }
      ]
    },
    {
      "cell_type": "code",
      "source": [
        "ls"
      ],
      "metadata": {
        "colab": {
          "base_uri": "https://localhost:8080/"
        },
        "id": "xqKNcoGszk5M",
        "outputId": "a983a9b9-718c-45ed-b4b9-a43cd0783a13"
      },
      "execution_count": null,
      "outputs": [
        {
          "output_type": "stream",
          "name": "stdout",
          "text": [
            "format.py  __init__.py  logits_processors.py  main.py  prob_choice_tree.py  type_prefixes.py\n"
          ]
        }
      ]
    },
    {
      "cell_type": "code",
      "source": [],
      "metadata": {
        "id": "6LZy0kFj0CbO"
      },
      "execution_count": 1,
      "outputs": []
    },
    {
      "cell_type": "code",
      "source": [
        "%cd /root/jsonAI"
      ],
      "metadata": {
        "colab": {
          "base_uri": "https://localhost:8080/"
        },
        "id": "ISVTyhux0Y0X",
        "outputId": "5c01c9a1-de7e-44e4-f47d-11dd4ed473c8"
      },
      "execution_count": null,
      "outputs": [
        {
          "output_type": "stream",
          "name": "stdout",
          "text": [
            "/root/jsonAI\n"
          ]
        }
      ]
    },
    {
      "cell_type": "code",
      "source": [],
      "metadata": {
        "id": "mRhtH0eH0aPm"
      },
      "execution_count": null,
      "outputs": []
    },
    {
      "cell_type": "code",
      "source": [],
      "metadata": {
        "id": "-qyH9O-J0skm"
      },
      "execution_count": null,
      "outputs": []
    }
  ]
}