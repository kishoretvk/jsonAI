{
 "cells": [
  {
   "cell_type": "code",
   "execution_count": 1,
   "metadata": {},
   "outputs": [],
   "source": [
    "# autoreload your package\n",
    "%load_ext autoreload\n",
    "%autoreload 2"
   ]
  },
  {
   "cell_type": "code",
   "execution_count": 2,
   "metadata": {},
   "outputs": [
    {
     "name": "stderr",
     "output_type": "stream",
     "text": [
      "/media/wassname/SGIronWolf/projects5/2024/prob_jsonformer/.venv/lib/python3.9/site-packages/tqdm/auto.py:21: TqdmWarning: IProgress not found. Please update jupyter and ipywidgets. See https://ipywidgets.readthedocs.io/en/stable/user_install.html\n",
      "  from .autonotebook import tqdm as notebook_tqdm\n"
     ]
    },
    {
     "name": "stdout",
     "output_type": "stream",
     "text": [
      "Loading model and tokenizer...\n"
     ]
    },
    {
     "name": "stderr",
     "output_type": "stream",
     "text": [
      "/media/wassname/SGIronWolf/projects5/2024/prob_jsonformer/.venv/lib/python3.9/site-packages/huggingface_hub/file_download.py:1132: FutureWarning: `resume_download` is deprecated and will be removed in version 1.0.0. Downloads always resume when possible. If you want to force a new download, use `force_download=True`.\n",
      "  warnings.warn(\n",
      "/media/wassname/SGIronWolf/projects5/2024/prob_jsonformer/.venv/lib/python3.9/site-packages/huggingface_hub/file_download.py:1132: FutureWarning: `resume_download` is deprecated and will be removed in version 1.0.0. Downloads always resume when possible. If you want to force a new download, use `force_download=True`.\n",
      "  warnings.warn(\n",
      "Special tokens have been added in the vocabulary, make sure the associated word embeddings are fine-tuned or trained.\n"
     ]
    },
    {
     "name": "stdout",
     "output_type": "stream",
     "text": [
      "Loaded model and tokenizer\n"
     ]
    }
   ],
   "source": [
    "from transformers import AutoModelForCausalLM, AutoTokenizer\n",
    "import torch\n",
    "\n",
    "print(\"Loading model and tokenizer...\")\n",
    "model_name = \"databricks/dolly-v2-3b\"\n",
    "model = AutoModelForCausalLM.from_pretrained(\n",
    "    model_name,\n",
    "    use_cache=True,\n",
    "    torch_dtype=torch.float16,\n",
    "    attn_implementation=\"eager\",\n",
    ").to(\"cuda:0\")\n",
    "tokenizer = AutoTokenizer.from_pretrained(model_name, use_fast=True, use_cache=True)\n",
    "print(\"Loaded model and tokenizer\")"
   ]
  },
  {
   "cell_type": "code",
   "execution_count": 18,
   "metadata": {},
   "outputs": [
    {
     "data": {
      "text/plain": [
       "{'age_probs': [{'prob': 0.94091796875, 'choice': '10'},\n",
       "  {'prob': 0.033233642578125, 'choice': '20'},\n",
       "  {'prob': 0.0122222900390625, 'choice': '12'},\n",
       "  {'prob': 0.00412750244140625, 'choice': '21'},\n",
       "  {'prob': 0.0028362274169921875, 'choice': '16'},\n",
       "  {'prob': 0.0018453598022460938, 'choice': '15'},\n",
       "  {'prob': 0.00113677978515625, 'choice': '11'},\n",
       "  {'prob': 0.0011110305786132812, 'choice': '18'},\n",
       "  {'prob': 0.0005083084106445312, 'choice': '25'},\n",
       "  {'prob': 0.0004558563232421875, 'choice': '23'},\n",
       "  {'prob': 0.0002498626708984375, 'choice': '14'},\n",
       "  {'prob': 0.00023281574249267578, 'choice': '13'},\n",
       "  {'prob': 0.0002238750457763672, 'choice': '22'},\n",
       "  {'prob': 0.00018131732940673828, 'choice': '26'},\n",
       "  {'prob': 0.0001690387725830078, 'choice': '24'},\n",
       "  {'prob': 0.00012552738189697266, 'choice': '19'},\n",
       "  {'prob': 7.796287536621094e-05, 'choice': '27'},\n",
       "  {'prob': 7.265806198120117e-05, 'choice': '28'},\n",
       "  {'prob': 4.106760025024414e-05, 'choice': '17'},\n",
       "  {'prob': 2.5033950805664062e-06, 'choice': '29'}],\n",
       " 'age_wmean': 17.816404402256012,\n",
       " 'is_student_probs': [{'prob': 0.974609375, 'choice': 'true'},\n",
       "  {'prob': 0.025177001953125, 'choice': 'false'}],\n",
       " 'is_student': False,\n",
       " 'name': 'John',\n",
       " 'age': 17,\n",
       " 'unit_time': 0.5,\n",
       " 'courses': ['C++'],\n",
       " 'trim': None,\n",
       " 'color': 'white'}"
      ]
     },
     "execution_count": 18,
     "metadata": {},
     "output_type": "execute_result"
    }
   ],
   "source": [
    "from prob_jsonformer import Jsonformer\n",
    "\n",
    "json_schema = {\n",
    "    \"type\": \"object\",\n",
    "    \"properties\": {\n",
    "        # we can return the probability of each choice, even if they are multiple tokens\n",
    "        \"age_probs\": {\"type\": \"p_enum\", \"enum\": [str(s) for s in range(10, 30)]},\n",
    "        # we can return the probabilistic weighted mean of a range\n",
    "        \"age_wmean\": {\"type\": \"p_integer\", \"minimum\": 10, \"maximum\": 30},\n",
    "        # the prob of true and false\n",
    "        \"is_student_probs\": {\"type\": \"p_enum\", \"enum\": [\"true\", \"false\"]},\n",
    "        \"is_student\": {\"type\": \"boolean\"},\n",
    "        # we've merged patches for enum, integer, null, union - currently mising from jsonformer\n",
    "        \"name\": {\"type\": \"string\", \"maxLength\": 4},\n",
    "        \"age\": {\"type\": \"integer\"},\n",
    "        \"unit_time\": {\"type\": \"number\"},\n",
    "        \"courses\": {\"type\": \"array\", \"items\": {\"type\": \"string\"}},\n",
    "        \"trim\": {\"type\": [\"string\", \"null\"]},\n",
    "        \"color\": {\n",
    "            \"type\": \"enum\",\n",
    "            \"values\": [\"red\", \"green\", \"blue\", \"brown\", \"white\", \"black\"],\n",
    "        },\n",
    "    },\n",
    "}\n",
    "\n",
    "\n",
    "prompt = \"Generate a young person's information based on the following schema:\"\n",
    "jsonformer = Jsonformer(model, tokenizer, json_schema, prompt)\n",
    "generated_data = jsonformer()\n",
    "\n",
    "generated_data"
   ]
  },
  {
   "cell_type": "code",
   "execution_count": null,
   "metadata": {},
   "outputs": [],
   "source": [
    "generated_data = {\n",
    "    \"age_probs\": [\n",
    "        {\"prob\": 0.94091796875, \"choice\": \"10\"},\n",
    "        {\"prob\": 0.033233642578125, \"choice\": \"20\"},\n",
    "        {\"prob\": 0.0122222900390625, \"choice\": \"12\"},\n",
    "        {\"prob\": 0.00412750244140625, \"choice\": \"21\"},\n",
    "        {\"prob\": 0.0028362274169921875, \"choice\": \"16\"},\n",
    "        {\"prob\": 0.0018453598022460938, \"choice\": \"15\"},\n",
    "        {\"prob\": 0.00113677978515625, \"choice\": \"11\"},\n",
    "        {\"prob\": 0.0011110305786132812, \"choice\": \"18\"},\n",
    "        {\"prob\": 0.0005083084106445312, \"choice\": \"25\"},\n",
    "        {\"prob\": 0.0004558563232421875, \"choice\": \"23\"},\n",
    "        {\"prob\": 0.0002498626708984375, \"choice\": \"14\"},\n",
    "        {\"prob\": 0.00023281574249267578, \"choice\": \"13\"},\n",
    "        {\"prob\": 0.0002238750457763672, \"choice\": \"22\"},\n",
    "        {\"prob\": 0.00018131732940673828, \"choice\": \"26\"},\n",
    "        {\"prob\": 0.0001690387725830078, \"choice\": \"24\"},\n",
    "        {\"prob\": 0.00012552738189697266, \"choice\": \"19\"},\n",
    "        {\"prob\": 7.796287536621094e-05, \"choice\": \"27\"},\n",
    "        {\"prob\": 7.265806198120117e-05, \"choice\": \"28\"},\n",
    "        {\"prob\": 4.106760025024414e-05, \"choice\": \"17\"},\n",
    "        {\"prob\": 2.5033950805664062e-06, \"choice\": \"29\"},\n",
    "    ],\n",
    "    \"age_wmean\": 17.816404402256012,\n",
    "    \"is_student_probs\": [\n",
    "        {\"prob\": 0.974609375, \"choice\": \"true\"},\n",
    "        {\"prob\": 0.025177001953125, \"choice\": \"false\"},\n",
    "    ],\n",
    "    \"is_student\": False,\n",
    "    \"name\": \"John\",\n",
    "    \"age\": 17,\n",
    "    \"unit_time\": 0.5,\n",
    "    \"courses\": [\"C++\"],\n",
    "    \"trim\": None,\n",
    "    \"color\": \"white\",\n",
    "}"
   ]
  }
 ],
 "metadata": {
  "kernelspec": {
   "display_name": ".venv",
   "language": "python",
   "name": "python3"
  },
  "language_info": {
   "codemirror_mode": {
    "name": "ipython",
    "version": 3
   },
   "file_extension": ".py",
   "mimetype": "text/x-python",
   "name": "python",
   "nbconvert_exporter": "python",
   "pygments_lexer": "ipython3",
   "version": "3.9.16"
  }
 },
 "nbformat": 4,
 "nbformat_minor": 2
}
