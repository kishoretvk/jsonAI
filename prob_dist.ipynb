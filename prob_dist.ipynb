{
 "cells": [
  {
   "cell_type": "code",
   "execution_count": 1,
   "metadata": {},
   "outputs": [],
   "source": [
    "# autoreload your package\n",
    "%load_ext autoreload\n",
    "%autoreload 2"
   ]
  },
  {
   "cell_type": "code",
   "execution_count": 2,
   "metadata": {},
   "outputs": [
    {
     "name": "stderr",
     "output_type": "stream",
     "text": [
      "/media/wassname/SGIronWolf/projects5/2024/prob_jsonformer/.venv/lib/python3.9/site-packages/tqdm/auto.py:21: TqdmWarning: IProgress not found. Please update jupyter and ipywidgets. See https://ipywidgets.readthedocs.io/en/stable/user_install.html\n",
      "  from .autonotebook import tqdm as notebook_tqdm\n"
     ]
    },
    {
     "name": "stdout",
     "output_type": "stream",
     "text": [
      "Loading model and tokenizer...\n"
     ]
    },
    {
     "name": "stderr",
     "output_type": "stream",
     "text": [
      "/media/wassname/SGIronWolf/projects5/2024/prob_jsonformer/.venv/lib/python3.9/site-packages/huggingface_hub/file_download.py:1132: FutureWarning: `resume_download` is deprecated and will be removed in version 1.0.0. Downloads always resume when possible. If you want to force a new download, use `force_download=True`.\n",
      "  warnings.warn(\n",
      "Loading checkpoint shards: 100%|██████████| 4/4 [00:02<00:00,  1.42it/s]\n",
      "Special tokens have been added in the vocabulary, make sure the associated word embeddings are fine-tuned or trained.\n"
     ]
    },
    {
     "name": "stdout",
     "output_type": "stream",
     "text": [
      "Loaded model and tokenizer\n"
     ]
    }
   ],
   "source": [
    "from transformers import AutoModelForCausalLM, AutoTokenizer\n",
    "import torch\n",
    "\n",
    "from prob_jsonformer import Jsonformer\n",
    "\n",
    "print(\"Loading model and tokenizer...\")\n",
    "model_name = \"databricks/dolly-v2-3b\"\n",
    "model_name = \"NousResearch/Meta-Llama-3-8B-Instruct\".lower()\n",
    "# model_name = \"failspy/Llama-3-8B-Instruct-abliterated\"\n",
    "# model_name = \"cognitivecomputations/Llama-3-8B-Instruct-abliterated-v2\"\n",
    "# model_name = \"nvidia/Llama3-ChatQA-1.5-8B\" # 4b\n",
    "# model_name = \"CohereForAI/c4ai-command-r-v01-4bit\" # 35b/4 = 8.75b\n",
    "model = AutoModelForCausalLM.from_pretrained(\n",
    "    model_name,\n",
    "    use_cache=True,\n",
    "    torch_dtype=torch.float16,\n",
    "    attn_implementation=\"eager\",\n",
    ").to(\"cuda:0\")\n",
    "tokenizer = AutoTokenizer.from_pretrained(model_name, use_fast=True, use_cache=True)\n",
    "tokenizer.padding_side = \"left\"\n",
    "print(\"Loaded model and tokenizer\")"
   ]
  },
  {
   "cell_type": "code",
   "execution_count": 3,
   "metadata": {},
   "outputs": [],
   "source": [
    "if tokenizer.pad_token_id is None:\n",
    "    tokenizer.pad_token_id = tokenizer.bos_token_id"
   ]
  },
  {
   "cell_type": "markdown",
   "metadata": {},
   "source": [
    "## Prob dist\n",
    "\n",
    "- Can LLM's sample from a distribution? http://people.csail.mit.edu/renda/llm-sampling-paper\n",
    "- Can they forecast events https://arxiv.org/abs/2402.07862"
   ]
  },
  {
   "cell_type": "code",
   "execution_count": 4,
   "metadata": {},
   "outputs": [],
   "source": [
    "from prob_jsonformer.prob_choice_tree import prob_choice_tree\n",
    "import pandas as pd\n",
    "import torch.nn.functional as F\n",
    "from tqdm.auto import tqdm"
   ]
  },
  {
   "cell_type": "code",
   "execution_count": 171,
   "metadata": {},
   "outputs": [],
   "source": [
    "def method0(choices, n=400):\n",
    "    \"\"\"\n",
    "    just generate many times\n",
    "    \"\"\"\n",
    "\n",
    "    toks = tokenizer.encode(prompt, return_tensors=\"pt\").to(model.device)\n",
    "    data = []\n",
    "    i = 0\n",
    "    while i<n*10 and len(data) < n:\n",
    "        i += 1\n",
    "        o = model.generate(\n",
    "            toks,\n",
    "            do_sample=True,\n",
    "            max_new_tokens=2,\n",
    "            temperature=1,\n",
    "            pad_token_id=tokenizer.pad_token_id\n",
    "        )\n",
    "        o = tokenizer.decode(o[0, -2:], skip_special_tokens=True)\n",
    "        try:\n",
    "            o = int(float(o))\n",
    "        except ValueError:\n",
    "            print(f\"failed `float({o})`\")\n",
    "            continue\n",
    "        if str(o) in choices:\n",
    "            data.append(o)\n",
    "        else:\n",
    "            print(f\"Generated `{o}` not in choices {choices}\")\n",
    "    d = pd.Series(data).value_counts(normalize=True).to_dict()\n",
    "\n",
    "    df = pd.DataFrame([d]).T\n",
    "    df.index = df.index.astype(int)\n",
    "    df = df.sort_index()\n",
    "    return df\n",
    "\n",
    "def method1(choices):\n",
    "    \"\"\"\n",
    "    Here we try each completion to get the hindsight probability of each choice\n",
    "\n",
    "    from https://github.com/1rgs/jsonformer/pull/19\n",
    "    \"\"\"\n",
    "    data = {}\n",
    "    for choice in choices:\n",
    "        n_option_tokens = tokenizer.encode(f'\"{choice}', add_special_tokens=False, return_tensors=\"pt\").shape[1]\n",
    "        toks = tokenizer.encode(prompt + f\"{choice}\", return_tensors=\"pt\").to(model.device)\n",
    "        option_tokens = toks[0, -n_option_tokens:]\n",
    "        o = model.forward(\n",
    "            toks,\n",
    "        )\n",
    "        logits = o.logits[0, -n_option_tokens-1:]\n",
    "\n",
    "        probabilities = torch.softmax(logits, dim=1)\n",
    "        option_token_probabilities = probabilities[:-1][torch.arange(probabilities.shape[0]-1), option_tokens]\n",
    "        option_probability = torch.prod(option_token_probabilities)\n",
    "        data[choice] = option_probability.item()\n",
    "\n",
    "    df = pd.DataFrame([data]).T\n",
    "    df.index = df.index.astype(int)\n",
    "    df.iloc[:, 0] = df.iloc[:, 0] / df.iloc[:, 0].sum()\n",
    "    df = df.sort_index()\n",
    "    return df\n",
    "\n",
    "\n",
    "def method2(choices):\n",
    "    \"\"\"\n",
    "    Useing logit constraints\n",
    "\n",
    "    https://github.com/1rgs/jsonformer/pull/41\n",
    "    \"\"\"\n",
    "    # TODO\n",
    "\n",
    "def method3(choices):\n",
    "    \"\"\"using my prob choice tree.\"\"\"\n",
    "    input_ids = tokenizer.encode(prompt, return_tensors=\"pt\").to(\n",
    "        model.device\n",
    "    )[0]\n",
    "    choice_tokens = tokenizer(choices).input_ids\n",
    "    choice_tokens = [torch.tensor(c) for c in choice_tokens]\n",
    "    r = prob_choice_tree(model, tokenizer, input_ids, choice_tokens)\n",
    "\n",
    "    df = pd.DataFrame(r).set_index('choice')\n",
    "    df['prob'] = df['prob'].astype(float)\n",
    "    df.index = df.index.astype(int)\n",
    "    df.iloc[:, 0] = df.iloc[:, 0] / df.iloc[:, 0].sum()\n",
    "    df = df.sort_index()\n",
    "    return df\n",
    "\n",
    "\n",
    "\n",
    "prompt = \"\"\"Q: Please sample a number from the distribution [0, 20]: \n",
    "A: \"\"\"\n",
    "\n",
    "choices = [str(i) for i in range(21)]\n",
    "\n",
    "ideal_dist = pd.Series({str(i): 1/21 for i in range(21)})\n",
    "ideal_dist.index = ideal_dist.index.astype(int)\n",
    "# ideal_dist"
   ]
  },
  {
   "cell_type": "code",
   "execution_count": 161,
   "metadata": {},
   "outputs": [
    {
     "data": {
      "text/plain": [
       "0    1.0\n",
       "dtype: float64"
      ]
     },
     "execution_count": 161,
     "metadata": {},
     "output_type": "execute_result"
    }
   ],
   "source": []
  },
  {
   "cell_type": "code",
   "execution_count": 139,
   "metadata": {},
   "outputs": [
    {
     "data": {
      "text/html": [
       "<div>\n",
       "<style scoped>\n",
       "    .dataframe tbody tr th:only-of-type {\n",
       "        vertical-align: middle;\n",
       "    }\n",
       "\n",
       "    .dataframe tbody tr th {\n",
       "        vertical-align: top;\n",
       "    }\n",
       "\n",
       "    .dataframe thead th {\n",
       "        text-align: right;\n",
       "    }\n",
       "</style>\n",
       "<table border=\"1\" class=\"dataframe\">\n",
       "  <thead>\n",
       "    <tr style=\"text-align: right;\">\n",
       "      <th></th>\n",
       "      <th>0</th>\n",
       "    </tr>\n",
       "  </thead>\n",
       "  <tbody>\n",
       "    <tr>\n",
       "      <th>4</th>\n",
       "      <td>0.073333</td>\n",
       "    </tr>\n",
       "    <tr>\n",
       "      <th>5</th>\n",
       "      <td>0.100000</td>\n",
       "    </tr>\n",
       "    <tr>\n",
       "      <th>7</th>\n",
       "      <td>0.100000</td>\n",
       "    </tr>\n",
       "    <tr>\n",
       "      <th>8</th>\n",
       "      <td>0.080000</td>\n",
       "    </tr>\n",
       "    <tr>\n",
       "      <th>10</th>\n",
       "      <td>0.046667</td>\n",
       "    </tr>\n",
       "    <tr>\n",
       "      <th>11</th>\n",
       "      <td>0.046667</td>\n",
       "    </tr>\n",
       "    <tr>\n",
       "      <th>12</th>\n",
       "      <td>0.125556</td>\n",
       "    </tr>\n",
       "    <tr>\n",
       "      <th>13</th>\n",
       "      <td>0.034444</td>\n",
       "    </tr>\n",
       "    <tr>\n",
       "      <th>14</th>\n",
       "      <td>0.367778</td>\n",
       "    </tr>\n",
       "    <tr>\n",
       "      <th>15</th>\n",
       "      <td>0.025556</td>\n",
       "    </tr>\n",
       "  </tbody>\n",
       "</table>\n",
       "</div>"
      ],
      "text/plain": [
       "           0\n",
       "4   0.073333\n",
       "5   0.100000\n",
       "7   0.100000\n",
       "8   0.080000\n",
       "10  0.046667\n",
       "11  0.046667\n",
       "12  0.125556\n",
       "13  0.034444\n",
       "14  0.367778\n",
       "15  0.025556"
      ]
     },
     "execution_count": 139,
     "metadata": {},
     "output_type": "execute_result"
    }
   ],
   "source": [
    "t0 = pd.Timestamp.now()\n",
    "r0 = method0(choices, n=900)\n",
    "t0 = pd.Timestamp.now() - t0\n",
    "r0"
   ]
  },
  {
   "cell_type": "code",
   "execution_count": 163,
   "metadata": {},
   "outputs": [],
   "source": [
    "t1 = pd.Timestamp.now()\n",
    "r1 = method1(choices)\n",
    "t1 = pd.Timestamp.now() - t1\n"
   ]
  },
  {
   "cell_type": "code",
   "execution_count": 164,
   "metadata": {},
   "outputs": [],
   "source": [
    "t3 = pd.Timestamp.now()\n",
    "r3 = method3(choices)\n",
    "t3 = pd.Timestamp.now() - t3"
   ]
  },
  {
   "cell_type": "code",
   "execution_count": 172,
   "metadata": {},
   "outputs": [
    {
     "data": {
      "text/html": [
       "<div>\n",
       "<style scoped>\n",
       "    .dataframe tbody tr th:only-of-type {\n",
       "        vertical-align: middle;\n",
       "    }\n",
       "\n",
       "    .dataframe tbody tr th {\n",
       "        vertical-align: top;\n",
       "    }\n",
       "\n",
       "    .dataframe thead th {\n",
       "        text-align: right;\n",
       "    }\n",
       "</style>\n",
       "<table border=\"1\" class=\"dataframe\">\n",
       "  <thead>\n",
       "    <tr style=\"text-align: right;\">\n",
       "      <th></th>\n",
       "      <th>method0: sampling</th>\n",
       "      <th>method1: hindsight</th>\n",
       "      <th>method3: generation tree</th>\n",
       "      <th>ideal</th>\n",
       "    </tr>\n",
       "  </thead>\n",
       "  <tbody>\n",
       "    <tr>\n",
       "      <th>0</th>\n",
       "      <td>0.000000</td>\n",
       "      <td>0.000642</td>\n",
       "      <td>0.0365</td>\n",
       "      <td>0.047619</td>\n",
       "    </tr>\n",
       "    <tr>\n",
       "      <th>1</th>\n",
       "      <td>0.000000</td>\n",
       "      <td>0.002812</td>\n",
       "      <td>0.0667</td>\n",
       "      <td>0.047619</td>\n",
       "    </tr>\n",
       "    <tr>\n",
       "      <th>2</th>\n",
       "      <td>0.000000</td>\n",
       "      <td>0.001010</td>\n",
       "      <td>0.0710</td>\n",
       "      <td>0.047619</td>\n",
       "    </tr>\n",
       "    <tr>\n",
       "      <th>3</th>\n",
       "      <td>0.000000</td>\n",
       "      <td>0.009076</td>\n",
       "      <td>0.0653</td>\n",
       "      <td>0.047619</td>\n",
       "    </tr>\n",
       "    <tr>\n",
       "      <th>4</th>\n",
       "      <td>0.073333</td>\n",
       "      <td>0.028844</td>\n",
       "      <td>0.0786</td>\n",
       "      <td>0.047619</td>\n",
       "    </tr>\n",
       "    <tr>\n",
       "      <th>5</th>\n",
       "      <td>0.100000</td>\n",
       "      <td>0.043982</td>\n",
       "      <td>0.0999</td>\n",
       "      <td>0.047619</td>\n",
       "    </tr>\n",
       "    <tr>\n",
       "      <th>6</th>\n",
       "      <td>0.000000</td>\n",
       "      <td>0.013840</td>\n",
       "      <td>0.0662</td>\n",
       "      <td>0.047619</td>\n",
       "    </tr>\n",
       "    <tr>\n",
       "      <th>7</th>\n",
       "      <td>0.100000</td>\n",
       "      <td>0.063993</td>\n",
       "      <td>0.0858</td>\n",
       "      <td>0.047619</td>\n",
       "    </tr>\n",
       "    <tr>\n",
       "      <th>8</th>\n",
       "      <td>0.080000</td>\n",
       "      <td>0.059184</td>\n",
       "      <td>0.0682</td>\n",
       "      <td>0.047619</td>\n",
       "    </tr>\n",
       "    <tr>\n",
       "      <th>9</th>\n",
       "      <td>0.000000</td>\n",
       "      <td>0.012213</td>\n",
       "      <td>0.0745</td>\n",
       "      <td>0.047619</td>\n",
       "    </tr>\n",
       "    <tr>\n",
       "      <th>10</th>\n",
       "      <td>0.046667</td>\n",
       "      <td>0.037620</td>\n",
       "      <td>0.0327</td>\n",
       "      <td>0.047619</td>\n",
       "    </tr>\n",
       "    <tr>\n",
       "      <th>11</th>\n",
       "      <td>0.046667</td>\n",
       "      <td>0.045378</td>\n",
       "      <td>0.0187</td>\n",
       "      <td>0.047619</td>\n",
       "    </tr>\n",
       "    <tr>\n",
       "      <th>12</th>\n",
       "      <td>0.125556</td>\n",
       "      <td>0.119555</td>\n",
       "      <td>0.0307</td>\n",
       "      <td>0.047619</td>\n",
       "    </tr>\n",
       "    <tr>\n",
       "      <th>13</th>\n",
       "      <td>0.034444</td>\n",
       "      <td>0.031679</td>\n",
       "      <td>0.0279</td>\n",
       "      <td>0.047619</td>\n",
       "    </tr>\n",
       "    <tr>\n",
       "      <th>14</th>\n",
       "      <td>0.367778</td>\n",
       "      <td>0.423860</td>\n",
       "      <td>0.0274</td>\n",
       "      <td>0.047619</td>\n",
       "    </tr>\n",
       "    <tr>\n",
       "      <th>15</th>\n",
       "      <td>0.025556</td>\n",
       "      <td>0.042629</td>\n",
       "      <td>0.0312</td>\n",
       "      <td>0.047619</td>\n",
       "    </tr>\n",
       "    <tr>\n",
       "      <th>16</th>\n",
       "      <td>0.000000</td>\n",
       "      <td>0.010285</td>\n",
       "      <td>0.0344</td>\n",
       "      <td>0.047619</td>\n",
       "    </tr>\n",
       "    <tr>\n",
       "      <th>17</th>\n",
       "      <td>0.000000</td>\n",
       "      <td>0.034793</td>\n",
       "      <td>0.0235</td>\n",
       "      <td>0.047619</td>\n",
       "    </tr>\n",
       "    <tr>\n",
       "      <th>18</th>\n",
       "      <td>0.000000</td>\n",
       "      <td>0.017495</td>\n",
       "      <td>0.0225</td>\n",
       "      <td>0.047619</td>\n",
       "    </tr>\n",
       "    <tr>\n",
       "      <th>19</th>\n",
       "      <td>0.000000</td>\n",
       "      <td>0.001101</td>\n",
       "      <td>0.0109</td>\n",
       "      <td>0.047619</td>\n",
       "    </tr>\n",
       "    <tr>\n",
       "      <th>20</th>\n",
       "      <td>0.000000</td>\n",
       "      <td>0.000010</td>\n",
       "      <td>0.0277</td>\n",
       "      <td>0.047619</td>\n",
       "    </tr>\n",
       "  </tbody>\n",
       "</table>\n",
       "</div>"
      ],
      "text/plain": [
       "    method0: sampling  method1: hindsight  method3: generation tree     ideal\n",
       "0            0.000000            0.000642                    0.0365  0.047619\n",
       "1            0.000000            0.002812                    0.0667  0.047619\n",
       "2            0.000000            0.001010                    0.0710  0.047619\n",
       "3            0.000000            0.009076                    0.0653  0.047619\n",
       "4            0.073333            0.028844                    0.0786  0.047619\n",
       "5            0.100000            0.043982                    0.0999  0.047619\n",
       "6            0.000000            0.013840                    0.0662  0.047619\n",
       "7            0.100000            0.063993                    0.0858  0.047619\n",
       "8            0.080000            0.059184                    0.0682  0.047619\n",
       "9            0.000000            0.012213                    0.0745  0.047619\n",
       "10           0.046667            0.037620                    0.0327  0.047619\n",
       "11           0.046667            0.045378                    0.0187  0.047619\n",
       "12           0.125556            0.119555                    0.0307  0.047619\n",
       "13           0.034444            0.031679                    0.0279  0.047619\n",
       "14           0.367778            0.423860                    0.0274  0.047619\n",
       "15           0.025556            0.042629                    0.0312  0.047619\n",
       "16           0.000000            0.010285                    0.0344  0.047619\n",
       "17           0.000000            0.034793                    0.0235  0.047619\n",
       "18           0.000000            0.017495                    0.0225  0.047619\n",
       "19           0.000000            0.001101                    0.0109  0.047619\n",
       "20           0.000000            0.000010                    0.0277  0.047619"
      ]
     },
     "execution_count": 172,
     "metadata": {},
     "output_type": "execute_result"
    },
    {
     "data": {
      "image/png": "[encoded data removed]",
      "text/plain": [
       "<Figure size 640x480 with 1 Axes>"
      ]
     },
     "metadata": {},
     "output_type": "display_data"
    }
   ],
   "source": [
    "df = pd.concat([r0, r1, r3, ideal_dist], axis=1)\n",
    "df.columns = ['method0: sampling', 'method1: hindsight', 'method3: generation tree', 'ideal']\n",
    "\n",
    "\n",
    "df = df.sort_index().fillna(0)\n",
    "df.plot.bar()\n",
    "df"
   ]
  },
  {
   "cell_type": "code",
   "execution_count": 173,
   "metadata": {},
   "outputs": [],
   "source": [
    "# df.sum()"
   ]
  },
  {
   "cell_type": "code",
   "execution_count": 174,
   "metadata": {},
   "outputs": [
    {
     "name": "stdout",
     "output_type": "stream",
     "text": [
      "MAE coverage (smaller is better\n"
     ]
    },
    {
     "data": {
      "text/plain": [
       "method0: sampling           1.121905\n",
       "method1: hindsight          0.952232\n",
       "method3: generation tree    0.494957\n",
       "dtype: float64"
      ]
     },
     "execution_count": 174,
     "metadata": {},
     "output_type": "execute_result"
    }
   ],
   "source": [
    "df_score = df / df['ideal'].values[:, None] - 1\n",
    "ratios = df_score.iloc[:21, :3]\n",
    "print('MAE coverage (smaller is better')\n",
    "ratios.abs().mean()"
   ]
  },
  {
   "cell_type": "code",
   "execution_count": 175,
   "metadata": {},
   "outputs": [
    {
     "name": "stdout",
     "output_type": "stream",
     "text": [
      "tensor([[0.0000, 0.0000, 0.0000, 0.0000, 0.0733, 0.1000, 0.0000, 0.1000, 0.0800,\n",
      "         0.0000, 0.0467, 0.0467, 0.1256, 0.0344, 0.3678, 0.0256, 0.0000, 0.0000,\n",
      "         0.0000, 0.0000, 0.0000]], dtype=torch.float64) method0: sampling\n",
      "tensor([[6.4225e-04, 2.8117e-03, 1.0104e-03, 9.0762e-03, 2.8844e-02, 4.3982e-02,\n",
      "         1.3840e-02, 6.3993e-02, 5.9184e-02, 1.2213e-02, 3.7620e-02, 4.5378e-02,\n",
      "         1.1956e-01, 3.1679e-02, 4.2386e-01, 4.2629e-02, 1.0285e-02, 3.4793e-02,\n",
      "         1.7495e-02, 1.1011e-03, 9.9832e-06]], dtype=torch.float64) method1: hindsight\n",
      "tensor([[0.0365, 0.0667, 0.0710, 0.0653, 0.0786, 0.0999, 0.0662, 0.0858, 0.0682,\n",
      "         0.0745, 0.0327, 0.0187, 0.0307, 0.0279, 0.0274, 0.0312, 0.0344, 0.0235,\n",
      "         0.0225, 0.0109, 0.0277]], dtype=torch.float64) method3: generation tree\n"
     ]
    },
    {
     "data": {
      "text/html": [
       "<style type=\"text/css\">\n",
       "#T_90c6a_row0_col0, #T_90c6a_row0_col1, #T_90c6a_row1_col0 {\n",
       "  background-color: #800026;\n",
       "  color: #f1f1f1;\n",
       "}\n",
       "#T_90c6a_row1_col1 {\n",
       "  background-color: #fffdc8;\n",
       "  color: #000000;\n",
       "}\n",
       "#T_90c6a_row2_col0, #T_90c6a_row2_col1 {\n",
       "  background-color: #ffffcc;\n",
       "  color: #000000;\n",
       "}\n",
       "</style>\n",
       "<table id=\"T_90c6a\">\n",
       "  <caption>KL_div_loss and time for each method (lower is better)</caption>\n",
       "  <thead>\n",
       "    <tr>\n",
       "      <th class=\"blank level0\" >&nbsp;</th>\n",
       "      <th id=\"T_90c6a_level0_col0\" class=\"col_heading level0 col0\" >KL_div_loss</th>\n",
       "      <th id=\"T_90c6a_level0_col1\" class=\"col_heading level0 col1\" >time</th>\n",
       "    </tr>\n",
       "    <tr>\n",
       "      <th class=\"index_name level0\" >method</th>\n",
       "      <th class=\"blank col0\" >&nbsp;</th>\n",
       "      <th class=\"blank col1\" >&nbsp;</th>\n",
       "    </tr>\n",
       "  </thead>\n",
       "  <tbody>\n",
       "    <tr>\n",
       "      <th id=\"T_90c6a_level0_row0\" class=\"row_heading level0 row0\" >method0: sampling</th>\n",
       "      <td id=\"T_90c6a_row0_col0\" class=\"data row0 col0\" >-3.092141</td>\n",
       "      <td id=\"T_90c6a_row0_col1\" class=\"data row0 col1\" >48.504429</td>\n",
       "    </tr>\n",
       "    <tr>\n",
       "      <th id=\"T_90c6a_level0_row1\" class=\"row_heading level0 row1\" >method1: hindsight</th>\n",
       "      <td id=\"T_90c6a_row1_col0\" class=\"data row1 col0\" >-3.092141</td>\n",
       "      <td id=\"T_90c6a_row1_col1\" class=\"data row1 col1\" >0.683987</td>\n",
       "    </tr>\n",
       "    <tr>\n",
       "      <th id=\"T_90c6a_level0_row2\" class=\"row_heading level0 row2\" >method3: generation tree</th>\n",
       "      <td id=\"T_90c6a_row2_col0\" class=\"data row2 col0\" >-3.092156</td>\n",
       "      <td id=\"T_90c6a_row2_col1\" class=\"data row2 col1\" >0.075112</td>\n",
       "    </tr>\n",
       "  </tbody>\n",
       "</table>\n"
      ],
      "text/plain": [
       "<pandas.io.formats.style.Styler at 0x76460c6033d0>"
      ]
     },
     "execution_count": 175,
     "metadata": {},
     "output_type": "execute_result"
    }
   ],
   "source": [
    "data = []\n",
    "times = dict(zip(df.columns, [t0, t1, t3]))\n",
    "for k in df.columns[:3]:\n",
    "    input = torch.tensor(df[k].values)[None, :]\n",
    "    print(input, k)\n",
    "    target = torch.tensor(df['ideal'].values)[None, :]\n",
    "    # https://pytorch.org/docs/stable/generated/torch.nn.KLDivLoss.html#torch.nn.KLDivLoss\n",
    "    s = F.kl_div(input, target , reduction='batchmean', log_target=False).item()\n",
    "    t = times[k].total_seconds()\n",
    "    data.append({'method': k, 'KL_div_loss': s, 'time': t})\n",
    "dfr = pd.DataFrame(data).set_index('method')\n",
    "# color values with cmap\n",
    "dfs = dfr.style.background_gradient(cmap='YlOrRd')\n",
    "dfs.set_caption('KL_div_loss and time for each method (lower is better)')\n",
    "dfs"
   ]
  },
  {
   "cell_type": "code",
   "execution_count": 176,
   "metadata": {},
   "outputs": [
    {
     "name": "stdout",
     "output_type": "stream",
     "text": [
      "| method                   |   KL_div_loss |      time |\n",
      "|:-------------------------|--------------:|----------:|\n",
      "| method0: sampling        |      -3.09214 | 48.5044   |\n",
      "| method1: hindsight       |      -3.09214 |  0.683987 |\n",
      "| method3: generation tree |      -3.09216 |  0.075112 |\n"
     ]
    }
   ],
   "source": [
    "print(dfr.to_markdown())"
   ]
  },
  {
   "cell_type": "markdown",
   "metadata": {},
   "source": [
    "## Scratch, collapse probs"
   ]
  },
  {
   "cell_type": "code",
   "execution_count": 14,
   "metadata": {},
   "outputs": [],
   "source": [
    "# def collapse_probs(json_schema, generated_data, keys = []):\n",
    "\n",
    "#     # get current row\n",
    "#     schema = json_schema\n",
    "#     data = generated_data\n",
    "#     for key in keys[:-1]:\n",
    "#         print(schema)\n",
    "#         schema = schema[key]\n",
    "#         data = data[key]\n",
    "\n",
    "#     schema_type = schema[\"type\"]\n",
    "\n",
    "#     if schema_type == \"p_enum\":\n",
    "#         k = keys[-1]\n",
    "#         data[k] = data[k][0]['choice']\n",
    "#     elif schema_type == \"object\":\n",
    "#         k = \"properties\"\n",
    "#         for key in schema[\"properties\"]:\n",
    "#             data[\"properties\"] = collapse_probs(json_schema, generated_data, keys + [key])\n",
    "    \n",
    "#     return generated_data\n",
    "\n",
    "\n",
    "# list(collapse_probs(json_schema, generated_data))"
   ]
  }
 ],
 "metadata": {
  "kernelspec": {
   "display_name": ".venv",
   "language": "python",
   "name": "python3"
  },
  "language_info": {
   "codemirror_mode": {
    "name": "ipython",
    "version": 3
   },
   "file_extension": ".py",
   "mimetype": "text/x-python",
   "name": "python",
   "nbconvert_exporter": "python",
   "pygments_lexer": "ipython3",
   "version": "3.9.16"
  }
 },
 "nbformat": 4,
 "nbformat_minor": 2
}
